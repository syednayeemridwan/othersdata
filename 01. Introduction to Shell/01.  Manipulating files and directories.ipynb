{
 "cells": [
  {
   "cell_type": "markdown",
   "metadata": {},
   "source": [
    "# Shell Intro"
   ]
  },
  {
   "cell_type": "markdown",
   "metadata": {},
   "source": [
    "Each time a command is entered, the shell runs some other programs, prints their output in human-readable form, and then displays a prompt to signal that it's ready to accept the next command. \n",
    "\n",
    "Both Shell and Graphical File Explorer both interfaces are used for issuing commands to the operating system."
   ]
  },
  {
   "cell_type": "markdown",
   "metadata": {},
   "source": [
    "# Where am I"
   ]
  },
  {
   "cell_type": "markdown",
   "metadata": {},
   "source": [
    "To find out where you are in the filesystem, run the command `pwd` (short for \"print working directory\")"
   ]
  },
  {
   "cell_type": "markdown",
   "metadata": {},
   "source": [
    "`/home/repl` is the directory repl in the directory home, while `/home/repl/course.txt` is a file course.txt in that directory, and `/` on its own is the root directory."
   ]
  },
  {
   "cell_type": "markdown",
   "metadata": {},
   "source": [
    "# Identify Files and Directories"
   ]
  },
  {
   "cell_type": "markdown",
   "metadata": {},
   "source": [
    "`pwd` tells you where you are. To find out what's there, type `ls` (which is short for \"listing\") and press the enter key. On its own, `ls` lists the contents of your current directory (the one displayed by `pwd`). If you add the names of some files, `ls` will list them, and if you add the names of directories, it will list their contents. For example, `ls /home/repl` shows you what's in your starting directory (usually called your home directory)."
   ]
  },
  {
   "cell_type": "markdown",
   "metadata": {},
   "source": [
    "- List files in directory dir2:  `ls /dir1/dir2`"
   ]
  },
  {
   "cell_type": "markdown",
   "metadata": {},
   "source": [
    "# How else can I identify files and directories?"
   ]
  },
  {
   "cell_type": "markdown",
   "metadata": {},
   "source": [
    "The shell decides if a path is absolute or relative by looking at its first character: If it begins with `/`, it is absolute. If it does not begin with `/`, it is relative.\n",
    "- If you are in the directory `/home/repl`, the relative path `seasonal` specifies the same directory as the absolute path `/home/repl/seasonal`.\n",
    "- If you are in the directory `/home/repl/seasonal`, the relative path `winter.csv` specifies the same file as the absolute path `/home/repl/seasonal/winter.csv`."
   ]
  },
  {
   "cell_type": "markdown",
   "metadata": {},
   "source": [
    "You are in `/home/repl` . Use ls with a relative path to list the file `/home/repl/seasonal/summer.csv`\n",
    "\n",
    "- `ls seasonal/summer.csv`\n"
   ]
  },
  {
   "cell_type": "markdown",
   "metadata": {},
   "source": [
    "# How can I move to another directory?"
   ]
  },
  {
   "cell_type": "markdown",
   "metadata": {},
   "source": [
    "If you type `cd seasonal` and then type `pwd`, the shell will tell you that you are now in `/home/repl/seasonal`. If you then run `ls` on its own, it shows you the contents of `/home/repl/seasonal`, because that's where you are. If you want to get back to your home directory `/home/repl`, you can use the command `cd /home/repl`"
   ]
  },
  {
   "cell_type": "markdown",
   "metadata": {},
   "source": [
    "You are in `/home/repl/`. Change directory to` /home/repl/seasonal` using a relative path.\n",
    "- `cd seasonal`"
   ]
  },
  {
   "cell_type": "markdown",
   "metadata": {},
   "source": [
    "# How can I move up a directory?"
   ]
  },
  {
   "cell_type": "markdown",
   "metadata": {},
   "source": [
    "The parent of a directory is the directory above it. For example, `/home` is the parent of `/home/repl`, and `/home/repl` is the parent of `/home/repl/seasonal`."
   ]
  },
  {
   "cell_type": "markdown",
   "metadata": {},
   "source": [
    "If you are in `/home/repl/seasonal`, then `cd ..` moves you up to `/home/repl`. If you use `cd .. ` once again, it puts you in` /home`. One more `cd ..` puts you in the root directory `/`"
   ]
  },
  {
   "cell_type": "markdown",
   "metadata": {},
   "source": [
    "A single dot on its own, `.`, always means \"the current directory\", so `ls` on its own and `ls .` do the same thing, while `cd .` has no effect (because it moves you into the directory you're currently in)."
   ]
  },
  {
   "cell_type": "markdown",
   "metadata": {},
   "source": [
    "One final special path is` ~` (the tilde character), which means \"your home directory\", such as `/home/repl`. No matter where you are, `ls ~` will always list the contents of your home directory, and `cd ~` will always take you home."
   ]
  },
  {
   "cell_type": "markdown",
   "metadata": {},
   "source": [
    "If you are in `/home/repl/seasonal`, where does `cd ~/../.` take you?\n",
    "- `/home`"
   ]
  },
  {
   "cell_type": "markdown",
   "metadata": {},
   "source": [
    "# How can I copy files?"
   ]
  },
  {
   "cell_type": "markdown",
   "metadata": {},
   "source": [
    "`cp original.txt duplicate.txt` creates a copy of `original.txt` called `duplicate.txt`. If there already was a file called `duplicate.txt`, it is overwritten. If the last parameter to `cp` is an existing directory, then a command like:\n",
    "\n",
    "`cp seasonal/autumn.csv seasonal/winter.csv` backup copies all of the files into that directory."
   ]
  },
  {
   "cell_type": "markdown",
   "metadata": {},
   "source": [
    "Make a copy of `seasonal/summer.csv` in the backup directory (which is also in `/home/repl`), calling the new file `summer.bck`:\n",
    "- `cp seasonal/summer.csv backup/summer.bck`"
   ]
  },
  {
   "cell_type": "markdown",
   "metadata": {},
   "source": [
    "Copy `spring.csv` and `summer.csv` from the `seasonal` directory into the `backup` directory without changing your current working directory (`/home/repl`):\n",
    "-  `cp seasonal/spring.csv  seasonal/summer.csv  backup`"
   ]
  },
  {
   "cell_type": "markdown",
   "metadata": {},
   "source": [
    "# How can I move a file?"
   ]
  },
  {
   "cell_type": "markdown",
   "metadata": {},
   "source": [
    "`mv` moves it from one directory to another, just as if you had dragged it in a graphical file browser. It handles its parameters the same way as `cp`, so the command:\n",
    "\n",
    "`mv autumn.csv winter.csv ..`\n",
    "moves the files `autumn.csv` and `winter.csv` from the current working directory up one level to its parent directory (because `..` always refers to the directory above your current location)."
   ]
  },
  {
   "cell_type": "markdown",
   "metadata": {},
   "source": [
    "You are in `/home/repl`, which has sub-directories seasonal and backup. Using a single command, move `spring.csv `and `summer.csv `from `seasonal` to `backup`:\n",
    "- `mv seasonal/spring.csv  seasonal/summer.csv  backup/`"
   ]
  },
  {
   "cell_type": "markdown",
   "metadata": {},
   "source": [
    "# How can I rename files?"
   ]
  },
  {
   "cell_type": "markdown",
   "metadata": {},
   "source": [
    "`mv` can also be used to rename files. If you run:\n",
    "\n",
    "`mv course.txt old-course.txt` then the file `course.txt` in the current working directory is \"moved\" to the file `old-course.txt`.\n",
    "`mv` will overwrite existing files. If, for example, you already have a file called `old-course.txt`, then the command shown above will replace it with whatever is in `course.txt`"
   ]
  },
  {
   "cell_type": "markdown",
   "metadata": {},
   "source": [
    "Rename the file `winter.csv` to be `winter.csv.bck`:\n",
    "- `mv winter.csv winter.csv.bck`"
   ]
  },
  {
   "cell_type": "markdown",
   "metadata": {},
   "source": [
    "# How can I delete files?"
   ]
  },
  {
   "cell_type": "markdown",
   "metadata": {},
   "source": [
    "To delete files, we use `rm`, which stands for \"remove\". You can give `rm` the names of as many files as you'd like, so `rm thesis.txt backup/thesis-2017-08.txt`removes both `thesis.txt` and `backup/thesis-2017-08.txt`"
   ]
  },
  {
   "cell_type": "markdown",
   "metadata": {},
   "source": [
    "Remove `autumn.csv`:\n",
    "- `rm autumn.csv`"
   ]
  },
  {
   "cell_type": "markdown",
   "metadata": {},
   "source": [
    "# How can I create and delete directories?"
   ]
  },
  {
   "cell_type": "markdown",
   "metadata": {},
   "source": [
    "If you try to `rm` a directory, the shell prints an error message telling you it can't do that, primarily to stop you from accidentally deleting an entire directory full of work. Instead, you can use a separate command called `rmdir`. For added safety, it only works when the directory is empty, so you must delete the files in a directory before you delete the directory. Experienced users can use the `-r` option to rm to get the same effect. Since a directory is not a file, you must use the command `mkdir directory_name` to create a new (empty) directory\n",
    "\n",
    "Without changing directories, delete the file agarwal.txt in the people directory.\n",
    "- `rm people/agarwal.txt`\n",
    "Now that the people directory is empty, use a single command to delete it.\n",
    "- `rmdir people/`\n",
    "create a new directory called `yearly` below your home directory.\n",
    "- `mkdir yearly`\n",
    "Now that `yearly` exists, create another directory called `2017` inside it without leaving your home directory.\n",
    "- `mkdir yearly/2017`"
   ]
  }
 ],
 "metadata": {
  "interpreter": {
   "hash": "1e949e87132dd83f1a7623eb88007e3532b03b66b77111be347aa4a383049722"
  },
  "kernelspec": {
   "display_name": "Python 3.8.11 ('env_py')",
   "language": "python",
   "name": "python3"
  },
  "language_info": {
   "name": "python",
   "version": "3.8.11"
  },
  "orig_nbformat": 4
 },
 "nbformat": 4,
 "nbformat_minor": 2
}
