{
 "cells": [
  {
   "cell_type": "markdown",
   "metadata": {},
   "source": [
    "# How can I view a file's contents?"
   ]
  },
  {
   "cell_type": "markdown",
   "metadata": {},
   "source": [
    "The simplest way to do this is with `cat`, which just prints the contents of files onto the screen. (Its name is short for \"concatenate\", meaning \"to link things together\", since it will print all the files whose names you give it, one after the other.) Like `cat filename`\n"
   ]
  },
  {
   "cell_type": "markdown",
   "metadata": {},
   "source": [
    "Print the contents of `course.txt` to the screen.\n",
    "- `cat course.txt`"
   ]
  },
  {
   "cell_type": "markdown",
   "metadata": {},
   "source": [
    "# How can I view a file's contents piece by piece?"
   ]
  },
  {
   "cell_type": "markdown",
   "metadata": {},
   "source": [
    "If you give `less` the names of several files, you can type `:n` (colon and a lower-case 'n') to move to the next file, `:p` to go back to the previous one, or `:q` to quit."
   ]
  },
  {
   "cell_type": "markdown",
   "metadata": {},
   "source": [
    "Use `less seasonal/spring.csv seasonal/summer.csv` to view those two files in that order. Press spacebar to page down, `:n` to go to the second file, and `:q` to quit.\n",
    "- `less seasonal/spring.csv seasonal/summer.csv`\n",
    "- `:n`\n",
    "- `:q`"
   ]
  },
  {
   "cell_type": "markdown",
   "metadata": {},
   "source": [
    "# How can I look at the start of a file?"
   ]
  },
  {
   "cell_type": "markdown",
   "metadata": {},
   "source": [
    "We can do this in the shell using a command called head. As its name suggests, it prints the first few lines of a file (where \"a few\" means 10), so the command:\n",
    "`head seasonal/summer.csv`"
   ]
  },
  {
   "cell_type": "markdown",
   "metadata": {},
   "source": [
    "# How can I type less?"
   ]
  },
  {
   "cell_type": "markdown",
   "metadata": {},
   "source": [
    "One of the shell's power tools is tab completion. If you start typing the name of a file and then press the \"tab\" key, the shell will do its best to auto-complete the path. For example, if you type `sea` and press tab, it will fill in the directory name `seasonal/`"
   ]
  },
  {
   "cell_type": "markdown",
   "metadata": {},
   "source": [
    "# How can I control what commands do?"
   ]
  },
  {
   "cell_type": "markdown",
   "metadata": {},
   "source": [
    "You won't always want to look at the first 10 lines of a file, so the shell lets you change head's behavior by giving it a command-line flag (or just \"flag\" for short). If you run the command:\n",
    "\n",
    "`head -n 3 seasonal/summer.csv`\n",
    "head will only display the first three lines of the file. If you run `head -n 100`, it will display the first 100 (assuming there are that many), and so on.\n",
    "\n",
    "A flag's name usually indicates its purpose (for example, `-n` is meant to signal \"number of lines\"). Command flags don't have to be a `-` followed by a single letter, but it's a widely-used convention."
   ]
  },
  {
   "cell_type": "markdown",
   "metadata": {},
   "source": [
    "Display the first 5 lines of `winter.csv` in the `seasonal` directory\n",
    "- `head -n 5 seasonal/winter.csv`"
   ]
  },
  {
   "cell_type": "markdown",
   "metadata": {},
   "source": [
    "# How can I list everything below a directory?"
   ]
  },
  {
   "cell_type": "markdown",
   "metadata": {},
   "source": [
    "In order to see everything underneath a directory, no matter how deeply nested it is, you can give `ls` the flag `-R` (which means \"recursive\").\n",
    "This shows every file and directory in the current level, then everything in each sub-directory, and so on."
   ]
  },
  {
   "cell_type": "markdown",
   "metadata": {},
   "source": [
    "ls has another flag `-F` that prints a `/` after the name of every directory and a `*` after the name of every runnable program. Run `ls` with the two flags, `-R `and `-F`, and the absolute path to your home directory to see everything it contains.\n",
    "- `ls -R -F`"
   ]
  },
  {
   "cell_type": "markdown",
   "metadata": {},
   "source": [
    "# How can I get help for a command?"
   ]
  },
  {
   "cell_type": "markdown",
   "metadata": {},
   "source": [
    "To find out what commands do, people used to use the `man` command (short for \"manual\"). For example, the command `man head` brings up `head`'s information\n",
    "\n",
    "`man` automatically invokes `less`, so you may need to press spacebar to page through the information and `:q` to quit.\n",
    "\n",
    "The one-line description under NAME tells you briefly what the command does, and the summary under SYNOPSIS lists all the flags it understands. Anything that is optional is shown in square brackets [...], either/or alternatives are separated by |, and things that can be repeated are shown by ..., so head's manual page is telling you that you can either give a line count with `-n` or a byte count with `-c`, and that you can give it any number of filenames."
   ]
  },
  {
   "cell_type": "markdown",
   "metadata": {},
   "source": [
    "# How can I select columns from a file?"
   ]
  },
  {
   "cell_type": "markdown",
   "metadata": {},
   "source": [
    "If you want to select columns, you can use the command `cut`. It has several options (use `man cut` to explore them), but the most common is something like:\n",
    "\n",
    "`cut -f 2-5,8 -d , values.csv`\n",
    "which means \"select columns 2 through 5 and columns 8, using comma as the separator\". `cut` uses `-f` (meaning \"fields\") to specify columns and `-d` (meaning \"delimiter\") to specify the separator. You need to specify the latter because some files may use spaces, tabs, or colons to separate columns."
   ]
  },
  {
   "cell_type": "markdown",
   "metadata": {},
   "source": [
    "What command will select the first column (containing dates) from the file `spring.csv`?\n",
    "- `cut -d , -f 1 seasonal/spring.csv` \n",
    "- `cut -d, -f1 seasonal/spring.csv`"
   ]
  },
  {
   "cell_type": "markdown",
   "metadata": {},
   "source": [
    "What is the output of `cut -d : -f 2-4` on the line `first:second:third:`\n",
    "- `second:third:`"
   ]
  },
  {
   "cell_type": "markdown",
   "metadata": {},
   "source": [
    "# How can I repeat commands?"
   ]
  },
  {
   "cell_type": "markdown",
   "metadata": {},
   "source": [
    "One of the biggest advantages of using the shell is that it makes it easy for you to do things over again. If you run some commands, you can then press the up-arrow key to cycle back through them. You can also use the left and right arrow keys and the delete key to edit them. Pressing return will then run the modified command.\n",
    "\n",
    "Even better, `history` will print a list of commands you have run recently. Each one is preceded by a serial number to make it easy to re-run particular commands: just type `!55` to re-run the 55th command in your history (if you have that many). You can also re-run a command by typing an exclamation mark followed by the command's name, such as `!head`"
   ]
  },
  {
   "cell_type": "markdown",
   "metadata": {},
   "source": [
    "- `history`\n",
    "- `![last_command_name_initial]`"
   ]
  },
  {
   "cell_type": "markdown",
   "metadata": {},
   "source": [
    "# How can I select lines containing specific values?"
   ]
  },
  {
   "cell_type": "markdown",
   "metadata": {},
   "source": [
    "`head` and `tail` select rows, `cut` selects columns, and `grep` selects lines according to what they contain. In its simplest form, `grep` takes a piece of text followed by one or more filenames and prints all of the lines in those files that contain that text. For example, `grep bicuspid seasonal/winter.csv` prints lines from `winter.csv` that contain \"bicuspid\"."
   ]
  },
  {
   "cell_type": "markdown",
   "metadata": {},
   "source": [
    "Print the contents of all of the lines containing the word `molar` in `seasonal/autumn.csv` by running a single command while in your home directory. Don't use any flags.\n",
    "- `grep molar seasonal/autumn.csv`\n"
   ]
  },
  {
   "cell_type": "markdown",
   "metadata": {},
   "source": [
    "Invert the match to find all of the lines that don't contain the word `molar` in `seasonal/spring.csv`, and show their line numbers. Remember, it's considered good style to put all of the flags before other values like filenames or the search term \"molar\".\n",
    "- `grep -v -n molar seasonal/spring.csv`"
   ]
  },
  {
   "cell_type": "markdown",
   "metadata": {},
   "source": [
    "Count how many lines contain the word `incisor` in `autumn.csv` and `winter.csv` combined. (Again, run a single command from your home directory.)\n",
    "- `grep -c incisor seasonal/autumn.csv seasonal/winter.csv`"
   ]
  },
  {
   "cell_type": "markdown",
   "metadata": {},
   "source": [
    "Read the manual page for `paste`, and then run paste to combine the autumn and winter data files in a single table using a comma as a separator.\n",
    "- `paste -d , seasonal/autumn.csv seasonal/winter.csv`"
   ]
  }
 ],
 "metadata": {
  "interpreter": {
   "hash": "1e949e87132dd83f1a7623eb88007e3532b03b66b77111be347aa4a383049722"
  },
  "kernelspec": {
   "display_name": "Python 3.8.11 ('env_py')",
   "language": "python",
   "name": "python3"
  },
  "language_info": {
   "name": "python",
   "version": "3.8.11"
  },
  "orig_nbformat": 4
 },
 "nbformat": 4,
 "nbformat_minor": 2
}
