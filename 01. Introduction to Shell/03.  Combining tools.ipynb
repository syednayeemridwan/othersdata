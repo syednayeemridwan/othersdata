{
 "cells": [
  {
   "cell_type": "markdown",
   "metadata": {},
   "source": [
    "# How can I store a command's output in a file?"
   ]
  },
  {
   "cell_type": "markdown",
   "metadata": {},
   "source": [
    "`head -n 5 seasonal/summer.csv`\n",
    "it prints the first 5 lines of the summer data on the screen. If you run this command instead:\n",
    "\n",
    "`head -n 5 seasonal/summer.csv > top.csv`\n",
    "nothing appears on the screen. Instead, head's output is put in a new file called `top.csv`. You can take a look at that file's contents using cat:\n",
    "\n",
    "`cat top.csv`\n",
    "The greater-than sign > tells the shell to redirect head's output to a file. It isn't part of the head command; instead, it works with every shell command that produces output."
   ]
  },
  {
   "cell_type": "markdown",
   "metadata": {},
   "source": [
    "Combine `tail` with redirection to save the last 5 lines of `seasonal/winter.csv` in a file called `last.csv`\n",
    "\n",
    "- ` tail -n5 seasonal/winter.csv > last.csv`"
   ]
  },
  {
   "cell_type": "markdown",
   "metadata": {},
   "source": [
    "# How can I use a command's output as an input?"
   ]
  },
  {
   "cell_type": "markdown",
   "metadata": {},
   "source": [
    "Suppose you want to get lines from the middle of a file. More specifically, suppose you want to get lines 3-5 from one of our data files. You can start by using head to get the first 5 lines and redirect that to a file, and then use tail to select the last 3:\n",
    "```\n",
    "head -n 5 seasonal/winter.csv > top.csv\n",
    "tail -n 3 top.csv\n",
    "```"
   ]
  },
  {
   "cell_type": "markdown",
   "metadata": {},
   "source": [
    "Select the last two lines from `seasonal/winter.csv` and save them in a file called `bottom.csv`\n",
    "- `tail -n2 seasonal/winter.csv > bottom.csv`\n",
    "\n",
    "Select the first line from `bottom.csv` in order to get the second-to-last line of the original file.\n",
    "- `head -n1 bottom.csv`"
   ]
  },
  {
   "cell_type": "markdown",
   "metadata": {},
   "source": [
    "# What's a better way to combine commands?"
   ]
  },
  {
   "cell_type": "markdown",
   "metadata": {},
   "source": [
    "The shell provides another tool that solves both of these problems at once called a pipe. Once again, start by running head:\n",
    "\n",
    "`head -n 5 seasonal/summer.csv`\n",
    "Instead of sending head's output to a file, add a vertical bar and the tail command without a filename:\n",
    "\n",
    "`head -n 5 seasonal/summer.csv | tail -n 3`\n",
    "The pipe symbol tells the shell to use the output of the command on the left as the input to the command on the right."
   ]
  },
  {
   "cell_type": "markdown",
   "metadata": {},
   "source": [
    "Use cut to select all of the tooth names from column 2 of the comma delimited file `seasonal/summer.csv`, then pipe the result to `grep`, with an inverted match, to exclude the header line containing the word \"Tooth\". `cut` and `grep` were covered in detail in Chapter 2, exercises 8 and 11 respectively.\n",
    "\n",
    "- `cut -d , -f 2 seasonal/summer.csv | grep -v Tooth`"
   ]
  },
  {
   "cell_type": "markdown",
   "metadata": {},
   "source": [
    "# How can I combine many commands?"
   ]
  },
  {
   "cell_type": "markdown",
   "metadata": {},
   "source": [
    "You can chain any number of commands together. For example, this command:\n",
    "\n",
    "`cut -d , -f 1 seasonal/spring.csv | grep -v Date | head -n 10`\n",
    "will:\n",
    "\n",
    "- select the first column from the spring data;\n",
    "- remove the header line containing the word \"Date\"; and\n",
    "- select the first 10 lines of actual data."
   ]
  },
  {
   "cell_type": "markdown",
   "metadata": {},
   "source": [
    "In the previous exercise, you used the following command to select all the tooth names from column 2 of seasonal/summer.csv:\n",
    "\n",
    "`cut -d , -f 2 seasonal/summer.csv | grep -v Tooth`\n",
    "Extend this pipeline with a `head` command to only select the very first tooth name.\n",
    "- `cut -d , -f 2 seasonal/summer.csv | grep -v Tooth | head -n1`"
   ]
  },
  {
   "cell_type": "markdown",
   "metadata": {},
   "source": [
    "# How can I count the records in a file?"
   ]
  },
  {
   "cell_type": "markdown",
   "metadata": {},
   "source": [
    "The command `wc` (short for \"word count\") prints the number of characters, words, and lines in a file. You can make it print only one of these using `-c`, `-w`, or `-l` respectively."
   ]
  },
  {
   "cell_type": "markdown",
   "metadata": {},
   "source": [
    "Count how many records in `seasonal/spring.csv` have dates in July 2017 (2017-07).\n",
    "\n",
    "To do this, use `grep` with a partial date to select the lines and pipe this result into `wc` with an appropriate flag to count the lines.\n",
    "- `grep 2017-07 seasonal/spring.csv  | wc -l`"
   ]
  },
  {
   "cell_type": "markdown",
   "metadata": {},
   "source": [
    "# How can I specify many files at once?"
   ]
  },
  {
   "cell_type": "markdown",
   "metadata": {},
   "source": [
    "Most shell commands will work on multiple files if you give them multiple filenames. For example, you can get the first column from all of the seasonal data files at once like this:\n",
    "\n",
    "`cut -d , -f 1 seasonal/winter.csv seasonal/spring.csv seasonal/summer.csv seasonal/autumn.csv`\n",
    "\n",
    "The most common wildcard is *, which means \"match zero or more characters\". Using it, we can shorten the cut command above to this:\n",
    "\n",
    "`cut -d , -f 1 seasonal/*.csv`"
   ]
  },
  {
   "cell_type": "markdown",
   "metadata": {},
   "source": [
    "Write a single command using `head` to get the first three lines from both `seasonal/spring.csv` and `seasonal/summer.csv`, a total of six lines of data, but not from the autumn or winter data files. Use a wildcard instead of spelling out the files' names in full.\n",
    "\n",
    "- `head -n3 seasonal/s*.csv`"
   ]
  },
  {
   "cell_type": "markdown",
   "metadata": {},
   "source": [
    "# What other wildcards can I use?"
   ]
  },
  {
   "cell_type": "markdown",
   "metadata": {},
   "source": [
    "- `?` matches a single character, so `201?.txt` will match `2017.txt` or `2018.txt`, but not `2017-01.txt`.\n",
    "- `[...]` matches any one of the characters inside the square brackets, so `201[78].txt` matches `2017.txt` or `2018.txt`, but not` 2016.txt`.\n",
    "- `{...}` matches any of the comma-separated patterns inside the curly brackets, so `{*.txt, *.csv}` matches any file whose name ends with `.txt` or `.csv`, but not files whose names end with `.pdf.`"
   ]
  },
  {
   "cell_type": "markdown",
   "metadata": {},
   "source": [
    "Which expression would match `singh.pdf` and `johel.txt` but not `sandhu.pdf` or `sandhu.txt`?\n",
    "- `{singh.pdf, j*.txt}`"
   ]
  },
  {
   "cell_type": "markdown",
   "metadata": {},
   "source": [
    "# How can I sort lines of text?"
   ]
  },
  {
   "cell_type": "markdown",
   "metadata": {},
   "source": [
    "`sort` puts data in order. By default it does this in ascending alphabetical order, but the flags `-n` and `-r` can be used to sort numerically and reverse the order of its output, while `-b` tells it to ignore leading blanks and `-f` tells it to fold case (i.e., be case-insensitive). Pipelines often use grep to get rid of unwanted records and then sort to put the remaining records in order"
   ]
  },
  {
   "cell_type": "markdown",
   "metadata": {},
   "source": [
    "Remember the combination of cut and grep to select all the tooth names from column 2 of seasonal/summer.csv?\n",
    "\n",
    "`cut -d , -f 2 seasonal/summer.csv | grep -v Tooth`\n",
    "Starting from this recipe, `sort` the names of the teeth in `seasonal/winter.csv` (not `summer.csv`) in descending alphabetical order. To do this, extend the pipeline with a `sort` step.\n",
    "- `cut -d , -f 2 seasonal/winter.csv | grep -v Tooth| sort -r -b`"
   ]
  },
  {
   "cell_type": "markdown",
   "metadata": {},
   "source": [
    "# How can I remove duplicate lines?"
   ]
  },
  {
   "cell_type": "markdown",
   "metadata": {},
   "source": [
    "Another command that is often used with `sort` is `uniq`, whose job is to remove duplicated lines.\n",
    "but if it contains:\n",
    "```\n",
    "2017-07-03\n",
    "2017-08-03\n",
    "2017-07-03\n",
    "2017-08-03\n",
    "```\n",
    "then `uniq` will print all four lines. The reason is that `uniq` is built to work with very large files. In order to remove non-adjacent lines from a file, it would have to keep the whole file in memory (or at least, all the unique lines seen so far). By only removing adjacent duplicates, it only has to keep the most recent unique line in memory."
   ]
  },
  {
   "cell_type": "markdown",
   "metadata": {},
   "source": [
    "Write a pipeline to:\n",
    "\n",
    "- get the second column from seasonal/winter.csv,\n",
    "- remove the word \"Tooth\" from the output so that only tooth names are displayed,\n",
    "- sort the output so that all occurrences of a particular tooth name are adjacent; and\n",
    "- display each tooth name once along with a count of how often it occurs.\n",
    "- The start of your pipeline is the same as the previous exercise:\n",
    "- \n",
    "- cut -d , -f 2 seasonal/winter.csv | grep -v Tooth\n",
    "- Extend it with a sort command, and use uniq -c to display unique lines with a count of how often each occurs rather than using uniq and wc.\n",
    "\n",
    "-- `cut -d , -f 2 seasonal/winter.csv | grep -v Tooth | sort -b | uniq -c` "
   ]
  },
  {
   "cell_type": "markdown",
   "metadata": {},
   "source": [
    "# How can I save the output of a pipe?"
   ]
  },
  {
   "cell_type": "markdown",
   "metadata": {},
   "source": [
    "The shell lets us redirect the output of a sequence of piped commands:\n",
    "\n",
    "`cut -d , -f 2 seasonal/*.csv | grep -v Tooth > teeth-only.txt`\n",
    "However, `>` must appear at the end of the pipeline: if we try to use it in the middle, like this:\n",
    "\n",
    "`cut -d , -f 2 seasonal/*.csv > teeth-only.txt | grep -v Tooth`\n",
    "then all of the output from cut is written to `teeth-only.txt`, so there is nothing left for `grep` and it waits forever for some input."
   ]
  },
  {
   "cell_type": "markdown",
   "metadata": {},
   "source": [
    "What happens if we put redirection at the front of a pipeline as in:\n",
    "\n",
    "`> result.txt head -n 3 seasonal/winter.csv`\n",
    "- The command's output is redirected to the file as usual."
   ]
  },
  {
   "cell_type": "markdown",
   "metadata": {},
   "source": [
    "# How can I stop a running program?"
   ]
  },
  {
   "cell_type": "markdown",
   "metadata": {},
   "source": [
    "`Ctrl + C`"
   ]
  }
 ],
 "metadata": {
  "interpreter": {
   "hash": "1e949e87132dd83f1a7623eb88007e3532b03b66b77111be347aa4a383049722"
  },
  "kernelspec": {
   "display_name": "Python 3.8.11 ('env_py')",
   "language": "python",
   "name": "python3"
  },
  "language_info": {
   "name": "python",
   "version": "3.8.11"
  },
  "orig_nbformat": 4
 },
 "nbformat": 4,
 "nbformat_minor": 2
}
