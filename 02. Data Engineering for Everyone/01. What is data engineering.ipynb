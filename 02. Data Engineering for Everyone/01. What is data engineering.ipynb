{
 "cells": [
  {
   "cell_type": "markdown",
   "metadata": {},
   "source": [
    "Data engineers lay the groundwork that makes data science possible."
   ]
  },
  {
   "cell_type": "markdown",
   "metadata": {},
   "source": [
    "Data Engineering:\n",
    "\n",
    "- Data pipelines ensure an efficient flow of the data through the organization.\n",
    "- Data pipelines automate data extraction.\n",
    "- Data pipelines do not necessarily include a transformation step.\n",
    "- ETL stands for Extract, Transform, Load."
   ]
  }
 ],
 "metadata": {
  "language_info": {
   "name": "python"
  },
  "orig_nbformat": 4
 },
 "nbformat": 4,
 "nbformat_minor": 2
}
