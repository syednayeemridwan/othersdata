{
 "cells": [
  {
   "cell_type": "markdown",
   "metadata": {},
   "source": [
    "Scala is an object-oriented language because every value is an object and every operation is a method call. This fact means the following lines of code both result in the value 6:\n",
    "```\n",
    "val sumB = 2.+(4)\n",
    "val sumA = 2 + 4\n",
    "```\n",
    "-- Rewrite the provided subtraction code in standard arithmetic notation (e.g., 2 + 4).\n",
    "-- Print the difference using the println function."
   ]
  },
  {
   "cell_type": "code",
   "execution_count": 1,
   "metadata": {},
   "outputs": [],
   "source": [
    "# // Calculate the difference between 8 and 5\n",
    "# val difference = 8 - 5\n",
    "\n",
    "# // Print the difference\n",
    "# println(difference)"
   ]
  },
  {
   "cell_type": "markdown",
   "metadata": {},
   "source": [
    "About scala:\n",
    "- Scala is compatible\n",
    "- Scala is concise\n",
    "- Scala is statically-typed\n",
    "- Scala is high-level\n",
    "- Scala lets you write small and/or large programs, elegantly"
   ]
  },
  {
   "cell_type": "markdown",
   "metadata": {},
   "source": [
    "- Define variables for cards 2, 3, and 4 for the suit clubs (♣). Explicitly specify their type as Int."
   ]
  },
  {
   "cell_type": "code",
   "execution_count": 2,
   "metadata": {},
   "outputs": [],
   "source": [
    "# // Define immutable variables for clubs 2♣ through 4♣\n",
    "# val twoClubs: Int = 2\n",
    "# val threeClubs: Int = 3\n",
    "# val fourClubs: Int = 4"
   ]
  },
  {
   "cell_type": "markdown",
   "metadata": {},
   "source": [
    "- Define playerA, playerB, and playerC as immutable variables with the strings \"Alex\", \"Chen\", and \"Marta\", respectively.\n",
    "- Read the code that reassigns playerC to \"Umberto\". Click \"Run Code\" and observe the error.\n",
    "- Delete the code that reassigns playerC to \"Umberto\".\n",
    "- Change the original playerC variable definition from \"Marta\" to \"Umberto\"."
   ]
  },
  {
   "cell_type": "code",
   "execution_count": 4,
   "metadata": {},
   "outputs": [],
   "source": [
    "# // Define immutable variables for player names\n",
    "# val playerA: String = \"Alex\"\n",
    "# val playerB: String = \"Chen\"\n",
    "# val playerC: String =  \"Marta\"\n",
    "\n",
    "# // Change playerC from Marta to Umberto\n",
    "# playerC = \"Umberto\""
   ]
  },
  {
   "cell_type": "markdown",
   "metadata": {},
   "source": [
    "You weren't able to reassign playerC because it is a val. If you anticipate you'll need to change a variable, you should use a mutable variable (var)"
   ]
  },
  {
   "cell_type": "markdown",
   "metadata": {},
   "source": [
    "- Define four mutable variables, all of type Int and equal to 1: aceClubs, aceDiamonds, aceHearts, aceSpades."
   ]
  },
  {
   "cell_type": "code",
   "execution_count": 5,
   "metadata": {},
   "outputs": [],
   "source": [
    "# // Define mutable variables for all aces\n",
    "# var aceClubs: Int = 1\n",
    "# var aceDiamonds: Int = 1\n",
    "# var aceHearts: Int = 1\n",
    "# var aceSpades: Int = 1"
   ]
  },
  {
   "cell_type": "markdown",
   "metadata": {},
   "source": [
    "- Create a var named playerA and with the name Alex as a string literal as its value.\n",
    "- Change the point value of the ace of diamonds so it is worth 11 points, instead of the original value of 1 point it was assigned.\n",
    "- Add jackClubs and aceDiamonds to calculate the value of Alex's hand and print the result."
   ]
  },
  {
   "cell_type": "code",
   "execution_count": 6,
   "metadata": {},
   "outputs": [],
   "source": [
    "# // Create a mutable variable for Alex as player A\n",
    "# var playerA: String = \"Alex\"\n",
    "\n",
    "# // Change the point value of A♦ from 1 to 11\n",
    "# aceDiamonds = 11\n",
    "\n",
    "# // Calculate hand value for J♣ and A♦\n",
    "# println(jackClubs + aceDiamonds)"
   ]
  }
 ],
 "metadata": {
  "interpreter": {
   "hash": "1e949e87132dd83f1a7623eb88007e3532b03b66b77111be347aa4a383049722"
  },
  "kernelspec": {
   "display_name": "Python 3.8.11 ('env_py')",
   "language": "python",
   "name": "python3"
  },
  "language_info": {
   "codemirror_mode": {
    "name": "ipython",
    "version": 3
   },
   "file_extension": ".py",
   "mimetype": "text/x-python",
   "name": "python",
   "nbconvert_exporter": "python",
   "pygments_lexer": "ipython3",
   "version": "3.8.11"
  },
  "orig_nbformat": 4
 },
 "nbformat": 4,
 "nbformat_minor": 2
}
