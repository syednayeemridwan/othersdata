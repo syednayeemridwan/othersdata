{
 "cells": [
  {
   "cell_type": "markdown",
   "metadata": {},
   "source": [
    "\n",
    "Compiled code performs better (i.e., is faster). This performance boost tend to grow in importance as program size grows."
   ]
  },
  {
   "cell_type": "markdown",
   "metadata": {},
   "source": [
    "Scala function:\n",
    "```\n",
    "def maxHand(handA: Int, handB: Int): Int = {\n",
    "  if (handA > handB) handA\n",
    "  else handB\n",
    "}\n",
    "```"
   ]
  },
  {
   "cell_type": "markdown",
   "metadata": {},
   "source": [
    "- Calculate the hand value for playerA, who has the following cards: queenDiamonds, threeClubs, aceHearts (worth 1), fiveSpades.\n",
    "- Calculate the hand value for playerB, who has the following cards: kingHearts, jackHearts.\n",
    "- Call the maxHand function, passing in handPlayerA and handPlayerB as arguments. Pass this function call into the println function to print out the maximum hand value."
   ]
  },
  {
   "cell_type": "code",
   "execution_count": 1,
   "metadata": {},
   "outputs": [],
   "source": [
    "# // Calculate hand values\n",
    "# var handPlayerA: Int = queenDiamonds + threeClubs + aceHearts + fiveSpades\n",
    "# var handPlayerB: Int = kingHearts + jackHearts\n",
    "\n",
    "# // Find and print the maximum hand value\n",
    "# println(maxHand(handPlayerA, handPlayerB))"
   ]
  },
  {
   "cell_type": "markdown",
   "metadata": {},
   "source": [
    "- Create and parameterize an array (named hands) of type Int with a length of 3. Explicitly provide the type parameterization."
   ]
  },
  {
   "cell_type": "code",
   "execution_count": 2,
   "metadata": {},
   "outputs": [],
   "source": [
    "# // Create and parameterize an array for a round of Twenty-One\n",
    "# val hands: Array[Int] = new Array[Int](3)"
   ]
  },
  {
   "cell_type": "markdown",
   "metadata": {},
   "source": [
    "- Initialize the first player's hand in the hands array.\n",
    "- Initialize the second player's hand in the hands array.\n",
    "- Initialize the third player's hand in the hands array."
   ]
  },
  {
   "cell_type": "code",
   "execution_count": 3,
   "metadata": {},
   "outputs": [],
   "source": [
    "# // Create and parameterize an array for a round of Twenty-One\n",
    "# val hands: Array[Int] = new Array[Int](3)\n",
    "\n",
    "# // Initialize the first player's hand in the array\n",
    "# hands(0) = tenClubs + fourDiamonds\n",
    "\n",
    "# // Initialize the second player's hand in the array\n",
    "# hands(1) = nineSpades + nineHearts\n",
    "\n",
    "# // Initialize the third player's hand in the array\n",
    "# hands(2) = twoClubs + threeSpades"
   ]
  },
  {
   "cell_type": "markdown",
   "metadata": {},
   "source": [
    "- Create an array named hands.\n",
    "- Initialize the first player's hand to tenClubs + fourDiamonds.\n",
    "- Initialize the second player's hand to nineSpades + nineHearts.\n",
    "- Initialize the third player's hand to twoClubs + threeSpades."
   ]
  },
  {
   "cell_type": "code",
   "execution_count": 4,
   "metadata": {},
   "outputs": [],
   "source": [
    "# // Create, parameterize, and initialize an array for a round of Twenty-One\n",
    "# val hands = Array(tenClubs + fourDiamonds,\n",
    "#               nineSpades + nineHearts,\n",
    "#               twoClubs + threeSpades)"
   ]
  },
  {
   "cell_type": "markdown",
   "metadata": {},
   "source": [
    "- Add a fiveClubs to the first player's hand in hands.\n",
    "- Add a queenSpades to the second player's hand in hands.\n",
    "- Add a kingClubs to the third player's hand in hands."
   ]
  },
  {
   "cell_type": "code",
   "execution_count": 5,
   "metadata": {},
   "outputs": [],
   "source": [
    "# // Initialize player's hand and print out hands before each player hits\n",
    "# hands(0) = tenClubs + fourDiamonds\n",
    "# hands(1) = nineSpades + nineHearts\n",
    "# hands(2) = twoClubs + threeSpades\n",
    "# hands.foreach(println)\n",
    "\n",
    "# // Add 5♣ to the first player's hand\n",
    "# hands(0) = hands(0) + fiveClubs\n",
    "\n",
    "# // Add Q♠ to the second player's hand\n",
    "# hands(1) = hands(1) + queenSpades\n",
    "\n",
    "# // Add K♣ to the third player's hand\n",
    "# hands(2) = hands(2) + kingClubs\n",
    "\n",
    "# // Print out hands after each player hits\n",
    "# hands.foreach(println)"
   ]
  },
  {
   "cell_type": "markdown",
   "metadata": {},
   "source": [
    "- Initialize a list named prizes with an element for each round's prize, where the first through fifth round's prizes are 10, 15, 20, 25, and 30, respectively.\n",
    "- Prepend to prizes using the cons (::) operator so a new first round is added, worth $5. Name the new list newPrizes."
   ]
  },
  {
   "cell_type": "code",
   "execution_count": 6,
   "metadata": {},
   "outputs": [],
   "source": [
    "# // Initialize a list with an element for each round's prize\n",
    "# val prizes = List(10, 15, 20, 25, 30)\n",
    "# println(prizes)\n",
    "\n",
    "# // Prepend to prizes to add another round and prize\n",
    "# val newPrizes = 5 :: prizes\n",
    "# println(newPrizes)"
   ]
  },
  {
   "cell_type": "markdown",
   "metadata": {},
   "source": [
    "- Using :: and Nil, initialize a list named prizes with an element each round's prize, where the first through fifth round's prizes are 10, 15, 20, 25, and 30, respectively."
   ]
  },
  {
   "cell_type": "code",
   "execution_count": 7,
   "metadata": {},
   "outputs": [],
   "source": [
    "# // Initialize a list with an element each round's prize\n",
    "# val prizes = 10 :: 15 :: 20 :: 25 :: 30 :: Nil\n",
    "# println(prizes)"
   ]
  },
  {
   "cell_type": "markdown",
   "metadata": {},
   "source": [
    "- Create the venuesNTOA list using List().\n",
    "- Create the venuesEuroTO list using the cons operator (::).\n",
    "- Concatenate venuesNTOA and venuesEuroTO to create a new list named venuesTOWorld."
   ]
  },
  {
   "cell_type": "code",
   "execution_count": 8,
   "metadata": {},
   "outputs": [],
   "source": [
    "# // The original NTOA and EuroTO venue lists\n",
    "# val venuesNTOA = List(\"The Grand Ballroom\", \"Atlantis Casino\", \"Doug's House\")\n",
    "# val venuesEuroTO = \"Five Seasons Hotel\" :: \"The Electric Unicorn\" :: Nil\n",
    "\n",
    "# // Concatenate the North American and European venues\n",
    "# val venuesTOWorld = venuesNTOA ::: venuesEuroTO"
   ]
  }
 ],
 "metadata": {
  "interpreter": {
   "hash": "1e949e87132dd83f1a7623eb88007e3532b03b66b77111be347aa4a383049722"
  },
  "kernelspec": {
   "display_name": "Python 3.8.11 ('env_py')",
   "language": "python",
   "name": "python3"
  },
  "language_info": {
   "codemirror_mode": {
    "name": "ipython",
    "version": 3
   },
   "file_extension": ".py",
   "mimetype": "text/x-python",
   "name": "python",
   "nbconvert_exporter": "python",
   "pygments_lexer": "ipython3",
   "version": "3.8.11"
  },
  "orig_nbformat": 4
 },
 "nbformat": 4,
 "nbformat_minor": 2
}
