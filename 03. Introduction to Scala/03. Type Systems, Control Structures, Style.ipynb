{
 "cells": [
  {
   "cell_type": "markdown",
   "metadata": {},
   "source": [
    "- Write code that accomplishes the following: if a player's hand is equal to 21, print \"Twenty-One!\" to output.\n",
    "- Click \"Run Code\" and observe the output.\n",
    "- Change fourSpades to threeSpades, then click \"Submit Answer\"."
   ]
  },
  {
   "cell_type": "code",
   "execution_count": 1,
   "metadata": {},
   "outputs": [],
   "source": [
    "# // Point value of a player's hand\n",
    "# val hand = sevenClubs + kingDiamonds + threeSpades\n",
    "\n",
    "# // Congratulate the player if they have reached 21\n",
    "# if (hand == 21) {\n",
    "#     println(\"Twenty-One!\")\n",
    "# } \n",
    "\n"
   ]
  },
  {
   "cell_type": "markdown",
   "metadata": {},
   "source": [
    "- Read the provided code, then fill in the type annotation for the informPlayer variable.\n",
    "- Write appropriate if, else if, and else conditions based on the provided code.\n",
    "- Change fiveSpades to fourSpades, then click \"Run Code\" and observe the output.\n",
    "- Change fourSpades to threeSpades, then click \"Submit Answer\"."
   ]
  },
  {
   "cell_type": "code",
   "execution_count": 2,
   "metadata": {},
   "outputs": [],
   "source": [
    "# // Point value of a player's hand\n",
    "# val hand = sevenClubs + kingDiamonds + threeSpades\n",
    "\n",
    "# // Inform a player where their current hand stands\n",
    "# val informPlayer: String = {\n",
    "#   if (hand > 21)\n",
    "#     \"Bust! :(\"\n",
    "#   else if (hand == 21)\n",
    "#     \"Twenty-One! :)\"\n",
    "#   else\n",
    "#     \"Hit or stay?\"\n",
    "# }\n",
    "\n",
    "# // Print the message\n",
    "# print(informPlayer)"
   ]
  },
  {
   "cell_type": "markdown",
   "metadata": {},
   "source": [
    "- Write an if condition: if the hand busts, make the Int 0 the result of the function.\n",
    "- Write an else condition: if the hand does not bust, subtract hand from 21 and make that difference the result of the function.\n",
    "- Call pointsToBust with a hand with the cards tenSpades and fiveClubs as the argument."
   ]
  },
  {
   "cell_type": "code",
   "execution_count": 3,
   "metadata": {},
   "outputs": [],
   "source": [
    "# // Find the number of points that will cause a bust\n",
    "# def pointsToBust(hand: Int): Int = {\n",
    "#   // If the hand is a bust, 0 points remain\n",
    "#   if (hand > 21)\n",
    "#     0\n",
    "#   // Otherwise, calculate the difference between 21 and the current hand\n",
    "#   else\n",
    "#     21 - hand\n",
    "# }\n",
    "\n",
    "# // Test pointsToBust with 10♠ and 5♣\n",
    "# val myHandPointsToBust = pointsToBust(tenSpades + fiveClubs)\n",
    "# println(myHandPointsToBust)"
   ]
  },
  {
   "cell_type": "markdown",
   "metadata": {},
   "source": [
    "- Define a counter variable, i, equal to zero.\n",
    "- Define the number of iterations for the while loop, numRepetitions, equal to three.\n",
    "- Fill out the first if clause so \"winner\" is printed in the first iteration of the loop, then \"winner\" again in the second iteration, and \"chicken dinner\" in the final iteration.\n",
    "- Increment the counter variable by one. If you don't do this, your code will run indefinitely and the console will crash."
   ]
  },
  {
   "cell_type": "code",
   "execution_count": 4,
   "metadata": {},
   "outputs": [],
   "source": [
    "# // Define counter variable\n",
    "# var i = 0\n",
    "\n",
    "# // Define the number of loop iterations\n",
    "# val numRepetitions = 3\n",
    "\n",
    "# // Loop to print a message for winner of the round\n",
    "# while (i < numRepetitions) {\n",
    "#   if (i < 2)\n",
    "#     println(\"winner\")\n",
    "#   else\n",
    "#     println(\"chicken dinner\")\n",
    "#   // Increment the counter variable\n",
    "#   i = i + 1\n",
    "# }"
   ]
  },
  {
   "cell_type": "markdown",
   "metadata": {},
   "source": [
    "- Define a counter variable, i. Set it equal to zero to start.\n",
    "- Using the counter variable i, write a while loop that proceeds through the loop hands.length times.\n",
    "- Find and print the winning hand's value for the ith hand.\n",
    "- Increment the counter variable."
   ]
  },
  {
   "cell_type": "code",
   "execution_count": 5,
   "metadata": {},
   "outputs": [],
   "source": [
    "# // Define counter variable\n",
    "# var  i = 0\n",
    "\n",
    "# // Create list with five hands of Twenty-One\n",
    "# var hands = List(16, 21, 8, 25, 4)\n",
    "\n",
    "# // Loop through hands\n",
    "# while (i < hands.length) {\n",
    "#   // Find and print number of points to bust\n",
    "#   println(pointsToBust(hands(i)))\n",
    "#   // Increment the counter variable\n",
    "#   i = i + 1\n",
    "# }"
   ]
  },
  {
   "cell_type": "markdown",
   "metadata": {},
   "source": [
    "Is Scala purely a functional language? That is, is the functional style of programming the only way of programming in Scala?\n",
    "- NO. Scala is actually a hybrid imperative/functional language, where the functional style is preferred. That means you can program in the functional style or the imperative style if you want to in Scala."
   ]
  },
  {
   "cell_type": "markdown",
   "metadata": {},
   "source": [
    "Available code:\n",
    "```\n",
    "// Define counter variable\n",
    "var i = 0\n",
    "\n",
    "// Create list with five hands of Twenty-One\n",
    "var hands = List(16, 21, 8, 25, 4)\n",
    "\n",
    "// Loop through hands\n",
    "while(i < hands.length) {\n",
    "  // Find and print number of points to bust\n",
    "  println(pointsToBust(hands(i)))\n",
    "  // Increment the counter variable\n",
    "  i += 1\n",
    "}\n",
    "```\n",
    "- Call the foreach method on the hands array of arrays, looping through each round to find the number of points to bust using the pointsToBust function."
   ]
  },
  {
   "cell_type": "code",
   "execution_count": 6,
   "metadata": {},
   "outputs": [],
   "source": [
    "# // Find the number of points that will cause a bust\n",
    "# def pointsToBust(hand: Int) = {\n",
    "#   // If the hand is a bust, 0 points remain\n",
    "#   if (bust(hand))\n",
    "#     println(0)\n",
    "#   // Otherwise, calculate the difference between 21 and the current hand\n",
    "#   else\n",
    "#     println(21 - hand)\n",
    "# }\n",
    "\n",
    "# // Create list with five hands of Twenty-One\n",
    "# var hands = List(16, 21, 8, 25, 4)\n",
    "\n",
    "# // Loop through hands, finding each hand's number of points to bust\n",
    "# hands.foreach(pointsToBust)"
   ]
  }
 ],
 "metadata": {
  "interpreter": {
   "hash": "1e949e87132dd83f1a7623eb88007e3532b03b66b77111be347aa4a383049722"
  },
  "kernelspec": {
   "display_name": "Python 3.8.11 ('env_py')",
   "language": "python",
   "name": "python3"
  },
  "language_info": {
   "codemirror_mode": {
    "name": "ipython",
    "version": 3
   },
   "file_extension": ".py",
   "mimetype": "text/x-python",
   "name": "python",
   "nbconvert_exporter": "python",
   "pygments_lexer": "ipython3",
   "version": "3.8.11"
  },
  "orig_nbformat": 4
 },
 "nbformat": 4,
 "nbformat_minor": 2
}
