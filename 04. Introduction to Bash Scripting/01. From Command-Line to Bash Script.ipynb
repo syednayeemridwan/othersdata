{
 "cells": [
  {
   "cell_type": "markdown",
   "metadata": {},
   "source": [
    "There is a file in either the start_dir/first_dir, start_dir/second_dir or start_dir/third_dir directory called soccer_scores.csv. It has columns Year,Winner,Winner Goals for outcomes of a soccer league.\n",
    "\n",
    "cd into the correct directory and use cat and grep to find who was the winner in 1959. You could also just ls from the top directory if you like!"
   ]
  },
  {
   "cell_type": "markdown",
   "metadata": {},
   "source": [
    "```\n",
    "pwd\n",
    "cd start_dir/second_dir\n",
    "head soccer_scores.csv\n",
    "grep '1959' soccer_scores.csv\n",
    "cat soccer_scores.csv | grep '1959'\n",
    "```"
   ]
  },
  {
   "cell_type": "markdown",
   "metadata": {},
   "source": [
    "There is a copy of Charles Dickens's infamous 'Tale of Two Cities' in your home directory called two_cities.txt.\n",
    "\n",
    "Use command line arguments such as cat, grep and wc with the right flag to count the number of lines in the book that contain either the character 'Sydney Carton' or 'Charles Darnay'. Use exactly these spellings and capitalizations"
   ]
  },
  {
   "cell_type": "markdown",
   "metadata": {},
   "source": [
    "```\n",
    "cat two_cities.txt | egrep 'Sydney Carton|Charles Darnay' | wc -l\n",
    "```"
   ]
  },
  {
   "cell_type": "markdown",
   "metadata": {},
   "source": [
    "Where is your bash installed?\n",
    "- `which bash` Command"
   ]
  },
  {
   "cell_type": "markdown",
   "metadata": {},
   "source": [
    "- Create a single-line script that concatenates the mentioned file.\n",
    "- Save your script and run from the console."
   ]
  },
  {
   "cell_type": "markdown",
   "metadata": {},
   "source": [
    "Inside script.sh:\n",
    "```\n",
    "#!/bin/bash\n",
    "\n",
    "# Concatenate the file\n",
    "cat server_log_with_todays_date.txt\n",
    "\n",
    "\n",
    "# Now save and run!\n",
    "\n",
    "```\n",
    "Inside Terminal:\n",
    "`bash script.sh`"
   ]
  },
  {
   "cell_type": "markdown",
   "metadata": {},
   "source": [
    "- Create a single-line pipe to cat the file, cut out the relevant field and aggregate (sort & uniq -c will help!) based on winning team.\n",
    "- Save your script and run from the console."
   ]
  },
  {
   "cell_type": "markdown",
   "metadata": {},
   "source": [
    "Inside script.sh:\n",
    "```\n",
    "#!/bin/bash\n",
    "\n",
    "# Create a single-line pipe\n",
    "cat soccer_scores.csv | cut -d \",\" -f 2 | tail -n +2 | sort | uniq -c\n",
    "\n",
    "# Now save and run!\n",
    "\n",
    "```\n",
    "Inside Terminal:\n",
    "`bash script.sh`"
   ]
  },
  {
   "cell_type": "markdown",
   "metadata": {},
   "source": [
    "- Create a pipe using sed twice to change the team Cherno to Cherno City first, and then Arda to Arda United.\n",
    "- Pipe the output to a file called soccer_scores_edited.csv.\n",
    "- Save your script and run from the console. Try opening soccer_scores_edited.csv using shell commands to confirm it worked (the first line should be changed)!"
   ]
  },
  {
   "cell_type": "markdown",
   "metadata": {},
   "source": [
    "Inside script.sh:\n",
    "```\n",
    "#!/bin/bash\n",
    "\n",
    "# Create a sed pipe to a new file\n",
    "cat soccer_scores.csv | sed 's/Cherno/Cherno City/g' | sed 's/Arda/Arda United/g' > soccer_scores_edited.csv\n",
    "\n",
    "# Now save and run!\n",
    "\n",
    "```\n",
    "Inside Terminal:\n",
    "`bash script.sh`"
   ]
  },
  {
   "cell_type": "markdown",
   "metadata": {},
   "source": [
    "- Echo the first and second ARGV arguments.\n",
    "- Echo out the entire ARGV array in one command (not each element).\n",
    "- Echo out the size of ARGV (how many arguments fed in).\n",
    "- Save your script and run from the terminal pane using the arguments Bird Fish Rabbit. Don't use the ./script.sh method."
   ]
  },
  {
   "cell_type": "markdown",
   "metadata": {},
   "source": [
    "Inside script.sh:\n",
    "```\n",
    "# Echo the first and second ARGV arguments\n",
    "echo $1 \n",
    "echo $2\n",
    "\n",
    "# Echo out the entire ARGV array\n",
    "echo $*\n",
    "\n",
    "# Echo out the size of ARGV\n",
    "echo $#\n",
    "\n",
    "```\n",
    "Inside Terminal:\n",
    "`bash script.sh`"
   ]
  },
  {
   "cell_type": "markdown",
   "metadata": {},
   "source": [
    "- Echo the first ARGV argument so you can confirm it is being read in.\n",
    "- cat all the files in the directory /hire_data and pipe to grep to filter using the city name (your first ARGV argument).\n",
    "- On the same line, pipe out the filtered data to a new CSV called cityname.csv where cityname is taken from the first ARGV argument.\n",
    "- Save your script and run from the console twice (do not use the ./script.sh method). Once with the argument Seoul. Then once with the argument Tallinn."
   ]
  },
  {
   "cell_type": "markdown",
   "metadata": {},
   "source": [
    "Inside script.sh:\n",
    "```\n",
    "# Echo the first ARGV argument\n",
    "echo $1 \n",
    "\n",
    "# Cat all the files\n",
    "# Then pipe to grep using the first ARGV argument\n",
    "# Then write out to a named csv using the first ARGV argument\n",
    "cat hire_data/* | grep \"$1\" > \"$1\".csv\n",
    "\n",
    "\n",
    "```\n",
    "Inside Terminal:\n",
    "- `bash script.sh Seoul`\n",
    "- `bash script.sh Tallinn`"
   ]
  }
 ],
 "metadata": {
  "language_info": {
   "name": "python"
  },
  "orig_nbformat": 4
 },
 "nbformat": 4,
 "nbformat_minor": 2
}
