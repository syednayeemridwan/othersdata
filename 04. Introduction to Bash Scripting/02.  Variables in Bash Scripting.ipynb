{
 "cells": [
  {
   "cell_type": "markdown",
   "metadata": {},
   "source": [
    "- Create a variable, yourname that contains the name of the user. Let's use the test name 'Sam' for this.\n",
    "- Fix the echo statement so it prints the variable and not the word yourname.\n",
    "- Run your script."
   ]
  },
  {
   "cell_type": "markdown",
   "metadata": {},
   "source": [
    "Inside script.sh:\n",
    "```\n",
    "# Create the required variable\n",
    "yourname=\"Sam\"\n",
    "\n",
    "# Print out the assigned name (Help fix this error!)\n",
    "echo \"Hi there $yourname, welcome to the website!\"\n",
    "```\n",
    "Inside Terminal:\n",
    "`bash script.sh`"
   ]
  },
  {
   "cell_type": "markdown",
   "metadata": {},
   "source": [
    "Which of the following correctly uses a 'shell within a shell' to print out the date? We do not want to select the option that will just print out the string 'date'."
   ]
  },
  {
   "cell_type": "code",
   "execution_count": 1,
   "metadata": {},
   "outputs": [],
   "source": [
    "# echo \"Right now it is `date`\""
   ]
  },
  {
   "cell_type": "markdown",
   "metadata": {},
   "source": [
    "- Create a variable temp_f from the first ARGV argument.\n",
    "- Call a shell-within-a-shell to subtract 32 from temp_f and assign to variable temp_f2.\n",
    "- Using the same method, multiply temp_f2 by 5 and divide by 9, assigning to a new variable temp_c then print out temp_c.\n",
    "- Save and run your script (in the terminal) using 108 Fahrenheit (the forecast temperature in Parramatta, Sydney this Saturday!)."
   ]
  },
  {
   "cell_type": "markdown",
   "metadata": {},
   "source": [
    "Inside script.sh:\n",
    "```\n",
    "# Get first ARGV into variable\n",
    "temp_f=$1\n",
    "\n",
    "# Subtract 32\n",
    "temp_f2=$(echo \"scale=2; $temp_f - 32\" | bc)\n",
    "\n",
    "# Multiply by 5/9\n",
    "temp_c=$(echo \"scale=2; $temp_f2 * 5 / 9\" | bc)\n",
    "\n",
    "# Print the celsius temp\n",
    "echo \"$temp_c\"\n",
    "\n",
    "```\n",
    "Inside Terminal:\n",
    "`bash script.sh 108`"
   ]
  },
  {
   "cell_type": "markdown",
   "metadata": {},
   "source": [
    "- Create three variables from the data in the three files within temps by concatenating the content into a variable using a shell-within-a-shell.\n",
    "- Print out the variables to ensure it worked.\n",
    "- Save your script and run from the command line."
   ]
  },
  {
   "cell_type": "markdown",
   "metadata": {},
   "source": [
    "Inside script.sh:\n",
    "```\n",
    "# Create three variables from the temp data files' contents\n",
    "temp_a=$(cat temps/region_A)\n",
    "temp_b=$(cat temps/region_B)\n",
    "temp_c=$(cat temps/region_C)\n",
    "\n",
    "# Print out the three variables\n",
    "echo \"The three temperatures were $temp_a, $temp_b, and $temp_c\"\n",
    "\n",
    "\n",
    "```\n",
    "Inside Terminal:\n",
    "`bash script.sh`"
   ]
  },
  {
   "cell_type": "markdown",
   "metadata": {},
   "source": [
    "Create a normal array called capital_cities which contains the cities Sydney, Albany and Paris. Do not use the declare method; fill the array as you create it. Be sure to put double quotation marks around each element!"
   ]
  },
  {
   "cell_type": "markdown",
   "metadata": {},
   "source": [
    "```\n",
    "# Create a normal array with the mentioned elements\n",
    "capital_cities=(\"Sydney\" \"Albany\" \"Paris\")\n",
    "```"
   ]
  },
  {
   "cell_type": "markdown",
   "metadata": {},
   "source": [
    "- Create a normal array called capital_cities. However, use the declare method to create in this exercise.\n",
    "- Below, add each city, appending to the array. The cities were Sydney, Albany, and Paris. Remember to use double quotation marks."
   ]
  },
  {
   "cell_type": "markdown",
   "metadata": {},
   "source": [
    "```\n",
    "# Create a normal array with the mentioned elements using the declare method\n",
    "declare -a capital_cities\n",
    "\n",
    "# Add (append) the elements\n",
    "capital_cities+=(\"Sydney\")\n",
    "capital_cities+=(\"Albany\")\n",
    "capital_cities+=(\"Paris\")\n",
    "```"
   ]
  },
  {
   "cell_type": "markdown",
   "metadata": {},
   "source": [
    "- Now you have the array created, print out the entire array using a special array property.\n",
    "- Then print out the length of the array using another special property."
   ]
  },
  {
   "cell_type": "markdown",
   "metadata": {},
   "source": [
    "```\n",
    "# The array has been created for you\n",
    "capital_cities=(\"Sydney\" \"Albany\" \"Paris\")\n",
    "\n",
    "# Print out the entire array\n",
    "echo ${capital_cities[@]}\n",
    "\n",
    "# Print out the array length\n",
    "echo ${#capital_cities[@]}\n",
    "```"
   ]
  },
  {
   "cell_type": "markdown",
   "metadata": {},
   "source": [
    "- Create an empty associative array on one line called model_metrics. Do not add any elements to it here.\n",
    "- Add the following key-value pairs; (model_accuracy, 98), (model_name, \"knn\"), (model_f1, 0.82)."
   ]
  },
  {
   "cell_type": "markdown",
   "metadata": {},
   "source": [
    "```\n",
    "# Create empty associative array\n",
    "declare -A model_metrics\n",
    "\n",
    "# Add the key-value pairs\n",
    "model_metrics[model_accuracy]=98\n",
    "model_metrics[model_name]=\"knn\"\n",
    "model_metrics[model_f1]=0.82\n",
    "```"
   ]
  },
  {
   "cell_type": "markdown",
   "metadata": {},
   "source": [
    "- Create the same associative array (model_metrics) all in one line. (model_accuracy, 98), (model_name, \"knn\"), (model_f1, 0.82). Remember you must add square brackets* around the keys!\n",
    "- Print out the array to see what you created."
   ]
  },
  {
   "cell_type": "markdown",
   "metadata": {},
   "source": [
    "```\n",
    "# Declare associative array with key-value pairs on one line\n",
    "declare -A model_metrics=([model_accuracy]=98 [model_name]=\"knn\" [model_f1]=0.82)\n",
    "\n",
    "# Print out the entire array\n",
    "echo ${model_metrics[@]}\n",
    "```"
   ]
  },
  {
   "cell_type": "markdown",
   "metadata": {},
   "source": [
    "- Now that you've created an associative array, print out just the keys of this associative array."
   ]
  },
  {
   "cell_type": "markdown",
   "metadata": {},
   "source": [
    "```\n",
    "# An associative array has been created for you\n",
    "declare -A model_metrics=([model_accuracy]=98 [model_name]=\"knn\" [model_f1]=0.82)\n",
    "\n",
    "# Print out just the keys\n",
    "echo ${!model_metrics[@]}\n",
    "```"
   ]
  },
  {
   "cell_type": "markdown",
   "metadata": {},
   "source": [
    "- Create an array with the two temp variables as elements.\n",
    "- Call an external program to get the average temperature. You will need to sum array elements then divide by 2. Use the scale parameter to ensure this is to 2 decimal places.\n",
    "- Append this new variable to your array and print out the entire array.\n",
    "- Run your script."
   ]
  },
  {
   "cell_type": "markdown",
   "metadata": {},
   "source": [
    "```\n",
    "# Create variables from the temperature data files\n",
    "temp_b=\"$(cat temps/region_B)\"\n",
    "temp_c=\"$(cat temps/region_C)\"\n",
    "\n",
    "# Create an array with these variables as elements\n",
    "region_temps=($temp_b $temp_c)\n",
    "\n",
    "# Call an external program to get average temperature\n",
    "average_temp=$(echo \"scale=2; (${region_temps[0]} + ${region_temps[1]}) / 2\" | bc)\n",
    "\n",
    "# Append average temp to the array\n",
    "region_temps+=($average_temp)\n",
    "\n",
    "# Print out the whole array\n",
    "echo ${region_temps[@]}\n",
    "\n",
    "```"
   ]
  }
 ],
 "metadata": {
  "kernelspec": {
   "display_name": "Python 3.8.11 ('env_py')",
   "language": "python",
   "name": "python3"
  },
  "language_info": {
   "codemirror_mode": {
    "name": "ipython",
    "version": 3
   },
   "file_extension": ".py",
   "mimetype": "text/x-python",
   "name": "python",
   "nbconvert_exporter": "python",
   "pygments_lexer": "ipython3",
   "version": "3.8.11"
  },
  "orig_nbformat": 4,
  "vscode": {
   "interpreter": {
    "hash": "1e949e87132dd83f1a7623eb88007e3532b03b66b77111be347aa4a383049722"
   }
  }
 },
 "nbformat": 4,
 "nbformat_minor": 2
}
