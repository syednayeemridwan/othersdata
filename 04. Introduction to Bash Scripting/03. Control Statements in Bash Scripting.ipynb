{
 "cells": [
  {
   "cell_type": "markdown",
   "metadata": {},
   "source": [
    "- Create a variable, accuracy by extracting the \"Accuracy\" line (and \"Accuracy\" value) in the first ARGV element (a file).\n",
    "- Create an IF statement to move the file into good_models/ folder if it is greater than or equal to 90 using a flag, not a mathematical sign.\n",
    "- Create an IF statement to move the file into bad_models/ folder if it is less than 90 using a flag, not a mathematical sign.\n",
    "- Run your script from the terminal pane twice (using bash script.sh). Once with model_results/model_1.txt, then once with model_results/model_2.txt as the only argument."
   ]
  },
  {
   "cell_type": "markdown",
   "metadata": {},
   "source": [
    "Inside Script.sh:\n",
    "```\n",
    "# Extract Accuracy from first ARGV element\n",
    "accuracy=$(grep \"Accuracy\" $1 | sed 's/.* //')\n",
    "\n",
    "# Conditionally move into good_models folder\n",
    "if [ $accuracy -ge 90 ]; then\n",
    "    mv $1 good_models/\n",
    "fi\n",
    "\n",
    "# Conditionally move into bad_models folder\n",
    "if [ $accuracy -lt 90 ]; then\n",
    "    mv $1 bad_models/\n",
    "fi\n",
    "\n",
    "```\n",
    "Inside Terminal:\n",
    "- `bash script.sh model_results/model_1.txt`\n",
    "- `bash script.sh model_results/model_2.txt`"
   ]
  },
  {
   "cell_type": "markdown",
   "metadata": {},
   "source": [
    "- Create a variable sfile out of the first ARGV element.\n",
    "- Use an IF statement and grep to check if the sfile variable contains SRVM_ AND vpt inside.\n",
    "- Inside the IF statement, move matching files to the good_logs/ directory.\n",
    "- Try your script on all of the files in the directory (that is, run it four times - once for each file). It should move only one of them."
   ]
  },
  {
   "cell_type": "markdown",
   "metadata": {},
   "source": [
    "Inside Script.sh:\n",
    "```\n",
    "# Create variable from first ARGV element\n",
    "sfile=$1\n",
    "\n",
    "# Create an IF statement on sfile's contents\n",
    "if grep -q 'SRVM_' $sfile && grep -q 'vpt' $sfile ; then\n",
    "\t# Move file if matched\n",
    "\tmv $sfile good_logs/\n",
    "fi\n",
    "```\n",
    "Inside Terminal:\n",
    "- `bash script.sh log1.txt `\n",
    "- `bash script.sh logdays.txt `"
   ]
  },
  {
   "cell_type": "markdown",
   "metadata": {},
   "source": [
    "- Use a FOR statement to loop through files that end in .R in inherited_folder/ using a glob expansion.\n",
    "- echo out each file name into the console."
   ]
  },
  {
   "cell_type": "markdown",
   "metadata": {},
   "source": [
    "Inside Script.sh:\n",
    "```\n",
    "# Use a FOR loop on files in directory\n",
    "for file in inherited_folder/*.R\n",
    "do  \n",
    "    # Echo out each file\n",
    "    echo \"$file\"\n",
    "done\n",
    "\n",
    "```\n",
    "Inside Terminal:\n",
    "- `bash script.sh`"
   ]
  },
  {
   "cell_type": "markdown",
   "metadata": {},
   "source": [
    "What happens:\n",
    "```\n",
    "#!/usr/bash\n",
    "emp_num=1\n",
    "while [ $emp_num -le 1000 ];\n",
    "do\n",
    "    cat \"$emp_num-dailySales.txt\"|egrep'Sales_total'|sed 's/.*://' > \"$emp_num-agg.txt\"\n",
    "done\n",
    "```\n",
    "- It will run forever because emp_num isn't incremented inside the loop."
   ]
  },
  {
   "cell_type": "markdown",
   "metadata": {},
   "source": [
    "- Use a FOR statement to loop through (using glob expansion) files that end in .py in robs_files/.\n",
    "- Use an IF statement and grep (remember the 'quiet' flag?) to check if RandomForestClassifier is in the file. Don't use a shell-within-a-shell here.\n",
    "- Move the Python files that contain RandomForestClassifier into the to_keep/ directory."
   ]
  },
  {
   "cell_type": "markdown",
   "metadata": {},
   "source": [
    "Inside Script.sh:\n",
    "```\n",
    "# Create a FOR statement on files in directory\n",
    "for file in robs_files/*.py\n",
    "do  \n",
    "    # Create IF statement using grep\n",
    "    if grep -q 'RandomForestClassifier' $file ; then\n",
    "        # Move wanted files to to_keep/ folder\n",
    "        mv $file to_keep/\n",
    "    fi\n",
    "done\n",
    "\n",
    "```\n",
    "Inside Terminal:\n",
    "- `bash script.sh`"
   ]
  },
  {
   "cell_type": "markdown",
   "metadata": {},
   "source": [
    "- Build a CASE statement that matches on the first ARGV element.\n",
    "- Create a match on each weekday such as Monday, Tuesday etc. using OR syntax on a single line, then a match on each weekend day (Saturday and Sunday) etc. using OR syntax on a single line.\n",
    "- Create a default match that prints out Not a day! if none of the above patterns are matched.\n",
    "- Save your script and run in the terminal window with Wednesday and Saturday to test."
   ]
  },
  {
   "cell_type": "markdown",
   "metadata": {},
   "source": [
    "Inside Script.sh:\n",
    "```\n",
    "# Create a CASE statement matching the first ARGV element\n",
    "case $1 in\n",
    "  # Match on all weekdays\n",
    "  Monday|Tuesday|Wednesday|Thursday|Friday)\n",
    "  echo \"It is a Weekday!\";;\n",
    "  # Match on all weekend days\n",
    "  Saturday|Sunday)\n",
    "  echo \"It is a Weekend!\";;\n",
    "  # Create a default\n",
    "  *) \n",
    "  echo \"Not a day!\";;\n",
    "esac\n",
    "\n",
    "\n",
    "```\n",
    "Inside Terminal:\n",
    "- `bash script.sh Wednesday`"
   ]
  },
  {
   "cell_type": "markdown",
   "metadata": {},
   "source": [
    "- Use a FOR statement to loop through (using glob expansion) files in model_out/.\n",
    "- Use a CASE statement to match on the contents of the file (we will use cat and shell-within-a-shell to get the contents to match against). It must check if the text contains a tree-based model name and move to tree_models/, otherwise delete the file.\n",
    "- Create a default match that prints out Unknown model in FILE where FILE is the filename then run your script."
   ]
  },
  {
   "cell_type": "markdown",
   "metadata": {},
   "source": [
    "Inside Script.sh:\n",
    "```\n",
    "# Use a FOR loop for each file in 'model_out/'\n",
    "for file in model_out/*\n",
    "do\n",
    "    # Create a CASE statement for each file's contents\n",
    "    case $(cat $file) in\n",
    "      # Match on tree and non-tree models\n",
    "      *\"Random Forest\"*|*GBM*|*XGBoost*)\n",
    "      mv $file tree_models/ ;;\n",
    "      *KNN*|*Logistic*)\n",
    "      rm $file ;;\n",
    "      # Create a default\n",
    "      *) \n",
    "      echo \"Unknown model in $file\" ;;\n",
    "    esac\n",
    "done\n",
    "\n",
    "```\n",
    "Inside Terminal:\n",
    "- `bash script.sh `"
   ]
  }
 ],
 "metadata": {
  "language_info": {
   "name": "python"
  },
  "orig_nbformat": 4
 },
 "nbformat": 4,
 "nbformat_minor": 2
}
