{
 "cells": [
  {
   "cell_type": "markdown",
   "metadata": {},
   "source": [
    "- Set up a function using the 'function-word' method called upload_to_cloud.\n",
    "- Use a FOR statement to loop through (using glob expansion) files whose names contain results in output_dir/ and echo that the filename is being uploaded to the cloud.\n",
    "- Call the function just below the function definition using its name."
   ]
  },
  {
   "cell_type": "markdown",
   "metadata": {},
   "source": [
    "Inside script.sh:\n",
    "```\n",
    "# Create function\n",
    "function upload_to_cloud () {\n",
    "  # Loop through files with glob expansion\n",
    "  for file in output_dir/*results*\n",
    "  do\n",
    "    # Echo that they are being uploaded\n",
    "    echo \"Uploading $file to cloud\"\n",
    "  done\n",
    "}\n",
    "\n",
    "# Call the function\n",
    "upload_to_cloud\n",
    "\n",
    "```\n",
    "Inside Terminal:\n",
    "`bash script.sh`\n"
   ]
  },
  {
   "cell_type": "markdown",
   "metadata": {},
   "source": [
    "- Set up a function called what_day_is_it without using the word function (as you did using the function-word method).\n",
    "- Parse the output of date into a variable called current_day. The extraction component has been done for you.\n",
    "- Echo the result.\n",
    "- Call the function just below the function definition."
   ]
  },
  {
   "cell_type": "markdown",
   "metadata": {},
   "source": [
    "Inside script.sh:\n",
    "```\n",
    "# Create function\n",
    "what_day_is_it () {\n",
    "\n",
    "  # Parse the results of date\n",
    "  current_day=$(date | cut -d \" \" -f1)\n",
    "\n",
    "  # Echo the result\n",
    "  echo \"$current_day\"\n",
    "}\n",
    "\n",
    "# Call the function\n",
    "what_day_is_it\n",
    "\n",
    "\n",
    "```\n",
    "Inside Terminal:\n",
    "`bash script.sh`\n"
   ]
  },
  {
   "cell_type": "markdown",
   "metadata": {},
   "source": [
    "- Create a function called return_percentage using the function-word method.\n",
    "- Create a variable inside the function called percent that divides the first argument fed into the function by the second argument.\n",
    "- Return the calculated value by echoing it back.\n",
    "- Call the function with the mentioned test values of 456 (the first argument) and 632 (the second argument) and echo the result."
   ]
  },
  {
   "cell_type": "markdown",
   "metadata": {},
   "source": [
    "Inside script.sh:\n",
    "```\n",
    "# Create function\n",
    "# Create a function \n",
    "function return_percentage () {\n",
    "\n",
    "  # Calculate the percentage using bc\n",
    "  percent=$(echo \"scale=2; 100 * $1 / $2\" | bc)\n",
    "\n",
    "  # Return the calculated percentage\n",
    "  echo \"$percent\"\n",
    "}\n",
    "\n",
    "# Call the function with 456 and 632 and echo the result\n",
    "return_test=$(return_percentage 456 632)\n",
    "echo \"456 out of 632 as a percent is $return_test%\"\n",
    "\n",
    "```\n",
    "Inside Terminal:\n",
    "`bash script.sh`\n"
   ]
  },
  {
   "cell_type": "markdown",
   "metadata": {},
   "source": [
    "- Create a function called get_number_wins using the function-word method.\n",
    "- Create a variable inside the function called win_stats that takes the argument fed into the function to filter the last step of the shell-pipeline presented.\n",
    "- Call the function using the city Etar.\n",
    "- Below the function call, try to access the win_stats variable created inside the function in the echo command presented."
   ]
  },
  {
   "cell_type": "markdown",
   "metadata": {},
   "source": [
    "Inside script.sh:\n",
    "```\n",
    "# Create a function\n",
    "function get_number_wins () {\n",
    "\n",
    "  # Filter aggregate results by argument\n",
    "  win_stats=$(cat soccer_scores.csv | cut -d \",\" -f2 | egrep -v 'Winner'| sort | uniq -c | egrep \"$1\")\n",
    "\n",
    "}\n",
    "\n",
    "# Call the function with specified argument\n",
    "get_number_wins \"Etar\"\n",
    "\n",
    "# Print out the global variable\n",
    "echo \"The aggregated stats are: $win_stats\"\n",
    "\n",
    "\n",
    "```\n",
    "Inside Terminal:\n",
    "`bash script.sh`\n"
   ]
  },
  {
   "cell_type": "markdown",
   "metadata": {},
   "source": [
    "- Create a function called sum_array and add a base variable (equal to 0) called sum with local scope. You will loop through the array and increment this variable.\n",
    "- Create a FOR loop through the ARGV array inside sum_array (hint: This is not $1! but another special array property) and increment sum with each element of the array.\n",
    "- Rather than assign to a global variable, echo back the result of your FOR loop summation.\n",
    "- Call your function using the test array provided and echo the result. You can capture the results of the function call using the shell-within-a-shell notation."
   ]
  },
  {
   "cell_type": "markdown",
   "metadata": {},
   "source": [
    "Inside script.sh:\n",
    "```\n",
    "# Create a function with a local base variable\n",
    "function sum_array () {\n",
    "  local sum=0\n",
    "  # Loop through, adding to base variable\n",
    "  for number in \"$@\"\n",
    "  do\n",
    "    sum=$(echo \"$sum + $number\" | bc)\n",
    "  done\n",
    "  # Echo back the result\n",
    "  echo $sum\n",
    "  }\n",
    "# Call function with array\n",
    "test_array=(14 12 23.5 16 19.34)\n",
    "total=$(sum_array \"${test_array[@]}\")\n",
    "echo \"The total sum of the test array is $total\"\n",
    "\n",
    "\n",
    "```\n",
    "Inside Terminal:\n",
    "`bash script.sh`\n"
   ]
  },
  {
   "cell_type": "markdown",
   "metadata": {},
   "source": [
    "can you determine how often the script.sh Bash script will run if the following line is in the user's crontab?\n",
    "\n",
    "`15 * * * 6,7 bash script.sh`\n",
    "- 15 minutes past every hour on Saturdays and Sundays."
   ]
  },
  {
   "cell_type": "markdown",
   "metadata": {},
   "source": [
    "- Create a crontab schedule that runs script1.sh at 30 minutes past 2am every day.\n",
    "- Create a crontab schedule that runs script2.sh every 15, 30 and 45 minutes past every hour.\n",
    "- Create a crontab schedule that runs script3.sh at 11.30pm on Sunday evening, every week. For this task, assume Sunday is the 0th day rather than the 7th day (as in some unix systems)."
   ]
  },
  {
   "cell_type": "markdown",
   "metadata": {},
   "source": [
    "```\n",
    "# Create a schedule for 30 minutes past 2am every day\n",
    "30 2 * * * bash script1.sh\n",
    "\n",
    "# Create a schedule for every 15, 30 and 45 minutes past the hour\n",
    "15,30,45 * * * * bash script2.sh\n",
    "\n",
    "# Create a schedule for 11.30pm on Sunday evening, every week\n",
    "30 23 * * 0 bash script3.sh\n",
    "```"
   ]
  },
  {
   "cell_type": "markdown",
   "metadata": {},
   "source": [
    "Verify there are no existing cronjobs by listing them.\n",
    "- `crontab -l`"
   ]
  },
  {
   "cell_type": "markdown",
   "metadata": {},
   "source": [
    "Use the edit command for crontab (select nano) then schedule extract_data.sh to run with Bash at 2:30am every day.\n",
    "- `crontab -e`\n",
    "- `1`\n",
    "- `30 2 * * * bash extract_data.sh`\n",
    "- Ctrl + O\n",
    "- Ctrl + X"
   ]
  },
  {
   "cell_type": "markdown",
   "metadata": {},
   "source": [
    "Verify the cronjob has been scheduled in the crontab by listing all current scheduled cronjobs.\n",
    "- `crontab -l`"
   ]
  }
 ],
 "metadata": {
  "language_info": {
   "name": "python"
  },
  "orig_nbformat": 4
 },
 "nbformat": 4,
 "nbformat_minor": 2
}
