{
 "cells": [
  {
   "cell_type": "markdown",
   "metadata": {},
   "source": [
    "- Upgrade csvkit to the latest version using Python package manager pip.\n",
    "- Print the manual for in2csv on the command line.\n",
    "- Print the manual for csvlook on the command line."
   ]
  },
  {
   "cell_type": "markdown",
   "metadata": {},
   "source": [
    "```\n",
    "# Upgrade csvkit using pip  \n",
    "pip install --upgrade csvkit\n",
    "\n",
    "# Print manual for in2csv\n",
    "in2csv -h\n",
    "\n",
    "# Print manual for csvlook\n",
    "csvlook -h\n",
    "```"
   ]
  },
  {
   "cell_type": "markdown",
   "metadata": {},
   "source": [
    "- Use Linux's built in unzip tool to unpack the zipped file SpotifyData.zip.\n",
    "- Convert the unzipped Excel file SpotifyData.xslx to csv and name this new file SpotifyData.csv. There is only one sheet (tab) in this file, so there's no need to worry about sheet specifications.\n",
    "- Print a preview of the newly converted csv file in console using a command that is part of the csvkit suite."
   ]
  },
  {
   "cell_type": "markdown",
   "metadata": {},
   "source": [
    "```\n",
    "# Use ls to find the name of the zipped file\n",
    "ls\n",
    "\n",
    "# Use Linux's built in unzip tool to unpack the zipped file \n",
    "unzip SpotifyData.zip\n",
    "\n",
    "# Check to confirm name and location of unzipped file\n",
    "ls\n",
    "\n",
    "# Convert SpotifyData.xlsx to csv\n",
    "in2csv SpotifyData.xlsx > SpotifyData.csv\n",
    "\n",
    "# Print a preview in console using a csvkit suite command \n",
    "csvlook SpotifyData.csv \n",
    "```"
   ]
  },
  {
   "cell_type": "markdown",
   "metadata": {},
   "source": [
    "- From SpotifyData.xlsx, convert the sheet \"Worksheet1_Popularity\" to CSV and call it Spotify_Popularity.csv.\n",
    "- Print the high level summary statistics for each column in Spotify_Popularity.csv."
   ]
  },
  {
   "cell_type": "markdown",
   "metadata": {},
   "source": [
    "```\n",
    "# Check to confirm name and location of the Excel data file\n",
    "ls\n",
    "\n",
    "# Convert sheet \"Worksheet1_Popularity\" to CSV\n",
    "in2csv SpotifyData.xlsx --sheet \"Worksheet1_Popularity\" > Spotify_Popularity.csv\n",
    "\n",
    "# Check to confirm name and location of the new CSV file\n",
    "ls\n",
    "\n",
    "# Print high level summary statistics for each column\n",
    "csvstat Spotify_Popularity.csv \n",
    "```"
   ]
  },
  {
   "cell_type": "markdown",
   "metadata": {},
   "source": [
    "- From SpotifyData.xlsx, convert the tab \"Worksheet2_MusicAttributes\" to CSV and call it Spotify_MusicAttributes.csv.\n",
    "- Print a preview of Spotify_MusicAttributes.csv using a function in csvkit with Markdown-compatible, fixed-width format."
   ]
  },
  {
   "cell_type": "markdown",
   "metadata": {},
   "source": [
    "```\n",
    "# Check to confirm name and location of the Excel data file\n",
    "ls\n",
    "\n",
    "# Convert sheet \"Worksheet2_MusicAttributes\" to CSV\n",
    "in2csv SpotifyData.xlsx --sheet \"Worksheet2_MusicAttributes\" > Spotify_MusicAttributes.csv\n",
    "\n",
    "# Check to confirm name and location of the new CSV file\n",
    "ls\n",
    "\n",
    "# Print preview of Spotify_MusicAttributes\n",
    "csvlook Spotify_MusicAttributes.csv\n",
    "```"
   ]
  },
  {
   "cell_type": "markdown",
   "metadata": {},
   "source": [
    "- Print in console a list of column headers in the data file Spotify_MusicAttributes.csv using a csvkit command."
   ]
  },
  {
   "cell_type": "markdown",
   "metadata": {},
   "source": [
    "```\n",
    "# Check to confirm name and location of data file\n",
    "ls\n",
    "\n",
    "# Print a list of column headers in data file \n",
    "csvcut -n Spotify_MusicAttributes.csv\n",
    "```"
   ]
  },
  {
   "cell_type": "markdown",
   "metadata": {},
   "source": [
    "- Print the first column in Spotify_MusicAttributes.csv by referring to the column by its position in the file"
   ]
  },
  {
   "cell_type": "markdown",
   "metadata": {},
   "source": [
    "```\n",
    "# Print a list of column headers in the data \n",
    "csvcut -n Spotify_MusicAttributes.csv\n",
    "\n",
    "# Print the first column, by position\n",
    "csvcut -c 1 Spotify_MusicAttributes.csv\n",
    "```"
   ]
  },
  {
   "cell_type": "markdown",
   "metadata": {},
   "source": [
    "- Print the first, third, and fifth column in Spotify_MusicAttributes.csv by referring to them by position."
   ]
  },
  {
   "cell_type": "markdown",
   "metadata": {},
   "source": [
    "```\n",
    "# Print a list of column headers in the data \n",
    "csvcut -n Spotify_MusicAttributes.csv\n",
    "\n",
    "# Print the first, third, and fifth column, by position\n",
    "csvcut -c 1,3,5 Spotify_MusicAttributes.csv\n",
    "```"
   ]
  },
  {
   "cell_type": "markdown",
   "metadata": {},
   "source": [
    "- Print the first column in Spotify_MusicAttributes.csv by referring to the column by its name."
   ]
  },
  {
   "cell_type": "markdown",
   "metadata": {},
   "source": [
    "```\n",
    "# Print a list of column headers in the data \n",
    "csvcut -n Spotify_MusicAttributes.csv\n",
    "\n",
    "# Print the first column, by name\n",
    "csvcut -c \"track_id\" Spotify_MusicAttributes.csv\n",
    "```"
   ]
  },
  {
   "cell_type": "markdown",
   "metadata": {},
   "source": [
    "- Print the first, third, and fifth column in Spotify_MusicAttributes.csv by referring to them by name."
   ]
  },
  {
   "cell_type": "markdown",
   "metadata": {},
   "source": [
    "```\n",
    "# Print a list of column headers in the data \n",
    "csvcut -n Spotify_MusicAttributes.csv\n",
    "\n",
    "# Print the track id, song duration, and loudness, by name \n",
    "csvcut -c \"track_id\",\"duration_ms\",\"loudness\" Spotify_MusicAttributes.csv\n",
    "```"
   ]
  },
  {
   "cell_type": "markdown",
   "metadata": {},
   "source": [
    "- Filter Spotify_MusicAttributes.csv and return the row or rows where track_id equals118GQ70Sp6pMqn6w1oKuki."
   ]
  },
  {
   "cell_type": "markdown",
   "metadata": {},
   "source": [
    "```\n",
    "# Print a list of column headers in the data \n",
    "csvcut -n Spotify_MusicAttributes.csv\n",
    "\n",
    "# Filter for row(s) where track_id = 118GQ70Sp6pMqn6w1oKuki\n",
    "csvgrep -c \"track_id\" -m 118GQ70Sp6pMqn6w1oKuki Spotify_MusicAttributes.csv\n",
    "```\n"
   ]
  },
  {
   "cell_type": "markdown",
   "metadata": {},
   "source": [
    "- Filter Spotify_MusicAttributes.csv and return the row or rows where danceability equals 0.812."
   ]
  },
  {
   "cell_type": "markdown",
   "metadata": {},
   "source": [
    "```\n",
    "# Print a list of column headers in the data \n",
    "csvcut -n Spotify_MusicAttributes.csv\n",
    "\n",
    "# Filter for row(s) where danceability = 0.812\n",
    "csvgrep -c \"danceability\" -m 0.812 Spotify_MusicAttributes.csv\n",
    "```"
   ]
  },
  {
   "cell_type": "markdown",
   "metadata": {},
   "source": [
    "- Stack SpotifyData_PopularityRank6.csv and SpotifyData_PopularityRank7.csv together. Re-direct the output of this stacking and save as a new file called SpotifyPopularity.csv."
   ]
  },
  {
   "cell_type": "markdown",
   "metadata": {},
   "source": [
    "```\n",
    "# Stack the two files and save results as a new file\n",
    "csvstack SpotifyData_PopularityRank6.csv SpotifyData_PopularityRank7.csv > SpotifyPopularity.csv\n",
    "\n",
    "# Preview the newly created file \n",
    "csvlook SpotifyPopularity.csv\n",
    "```"
   ]
  },
  {
   "cell_type": "markdown",
   "metadata": {},
   "source": [
    "- Use the chain operator that allows csvlook to run first, and if it succeeds, then run csvstat."
   ]
  },
  {
   "cell_type": "markdown",
   "metadata": {},
   "source": [
    "```\n",
    "# If csvlook succeeds, then run csvstat \n",
    "csvlook Spotify_Popularity.csv && csvstat Spotify_Popularity.csv\n",
    "```"
   ]
  },
  {
   "cell_type": "markdown",
   "metadata": {},
   "source": [
    "- Use the chain operator that to pass the output of csvsort as input to csvlook."
   ]
  },
  {
   "cell_type": "markdown",
   "metadata": {},
   "source": [
    "```\n",
    "# Use the output of csvsort as input to csvlook\n",
    "csvsort -c 2 Spotify_Popularity.csv | csvlook\n",
    "```"
   ]
  },
  {
   "cell_type": "markdown",
   "metadata": {},
   "source": [
    "- Use the 2 chain operators that takes the top 15 results from the sorted output and saves it to a new file."
   ]
  },
  {
   "cell_type": "markdown",
   "metadata": {},
   "source": [
    "```\n",
    "# Take top 15 rows from sorted output and save to new file\n",
    "csvsort -c 2 Spotify_Popularity.csv | head -n 15 > Spotify_Popularity_Top15.csv\n",
    "\n",
    "# Preview the new file \n",
    "csvlook Spotify_Popularity_Top15.csv\n",
    "```"
   ]
  },
  {
   "cell_type": "markdown",
   "metadata": {},
   "source": [
    "- Convert the Spotify201809 sheet into its own csv file named Spotify201809.csv.\n",
    "- Familiarize ourselves with the column names by printing a preview of the file using a function in csvkit.\n",
    "- Find the column names for song track and popularity rank. Create a new CSV containing only these 2 columns.\n",
    "- Stack Spotify201809_subset.csv and Spotify201810_subset.csv together to form 1 csv file and create a new column with either Sep2018 or Oct2018, depending on original file source. Leave the name of the new column to its default group."
   ]
  },
  {
   "cell_type": "markdown",
   "metadata": {},
   "source": [
    "```\n",
    "# Convert the Spotify201809 tab into its own csv file \n",
    "in2csv Spotify_201809_201810.xlsx --sheet \"Spotify201809\" > Spotify201809.csv\n",
    "\n",
    "# Check to confirm name and location of data file\n",
    "ls\n",
    "\n",
    "# Preview file preview using a csvkit function\n",
    "csvlook Spotify201809.csv\n",
    "\n",
    "# Create a new csv with 2 columns: track_id and popularity\n",
    "csvcut -c \"track_id\",\"popularity\" Spotify201809.csv > Spotify201809_subset.csv\n",
    "\n",
    "# While stacking the 2 files, create a data source column\n",
    "csvstack -g \"Sep2018\",\"Oct2018\" Spotify201809_subset.csv Spotify201810_subset.csv > Spotify_all_rankings.csv\n",
    "```"
   ]
  }
 ],
 "metadata": {
  "language_info": {
   "name": "python"
  },
  "orig_nbformat": 4
 },
 "nbformat": 4,
 "nbformat_minor": 2
}
