{
 "cells": [
  {
   "cell_type": "markdown",
   "metadata": {},
   "source": [
    "Which optional argument in sql2csv will print detailed tracebacks and logs when errors occur while using sql2csv?"
   ]
  },
  {
   "cell_type": "markdown",
   "metadata": {},
   "source": [
    "\n",
    "- `sql2csv -v` or `sql2csv --verbose`\n"
   ]
  },
  {
   "cell_type": "markdown",
   "metadata": {},
   "source": [
    "Could you use csvsql's manual to check what SQL database connections are currently NOT supported for sql2csv and for the rest of the csvkit suite?"
   ]
  },
  {
   "cell_type": "markdown",
   "metadata": {},
   "source": [
    "- ` csvsql -h | grep \"sql\"`"
   ]
  },
  {
   "cell_type": "markdown",
   "metadata": {},
   "source": [
    "- Use sql2csv to access the SQLite database SpotifyDatabase and query and print all data in the table Spotify_Popularity.\n"
   ]
  },
  {
   "cell_type": "markdown",
   "metadata": {},
   "source": [
    "```\n",
    "# Verify database name \n",
    "ls\n",
    "\n",
    "# Pull the entire Spotify_Popularity table and print in log\n",
    "sql2csv --db \"sqlite:///SpotifyDatabase.db\" \\\n",
    "        --query \"SELECT * FROM Spotify_Popularity\" \n",
    "```"
   ]
  },
  {
   "cell_type": "markdown",
   "metadata": {},
   "source": [
    "- Use a SQL query to print the first 5 rows in the table Spotify_Popularity. Then, preview the results using csvlook."
   ]
  },
  {
   "cell_type": "markdown",
   "metadata": {},
   "source": [
    "```\n",
    "# Verify database name \n",
    "ls\n",
    "\n",
    "# Query first 5 rows of Spotify_Popularity and print in log\n",
    "sql2csv --db \"sqlite:///SpotifyDatabase.db\" \\\n",
    "        --query \"SELECT * FROM Spotify_Popularity\" \\\n",
    "        | csvlook         \n",
    "```"
   ]
  },
  {
   "cell_type": "markdown",
   "metadata": {},
   "source": [
    "- Save queried results to a new file Spotify_Popularity_5Rows.csv. Verify and preview the file with ls and csvlook."
   ]
  },
  {
   "cell_type": "markdown",
   "metadata": {},
   "source": [
    "```\n",
    "# Verify database name \n",
    "ls\n",
    "\n",
    "# Save query to new file Spotify_Popularity_5Rows.csv\n",
    "sql2csv --db \"sqlite:///SpotifyDatabase.db\" \\\n",
    "        --query \"SELECT * FROM Spotify_Popularity LIMIT 5\" \\\n",
    "        > Spotify_Popularity_5Rows.csv\n",
    "\n",
    "# Verify newly created file\n",
    "ls\n",
    "\n",
    "# Print preview of newly created file\n",
    "csvlook Spotify_Popularity_5Rows.csv\n",
    "```"
   ]
  },
  {
   "cell_type": "markdown",
   "metadata": {},
   "source": [
    "- Complete the command to apply the SQL query to Spotify_MusicAttributes.csv."
   ]
  },
  {
   "cell_type": "markdown",
   "metadata": {},
   "source": [
    "```\n",
    "# Preview CSV file\n",
    "ls\n",
    "\n",
    "# Apply SQL query to Spotify_MusicAttributes.csv\n",
    "csvsql --query \"SELECT * FROM Spotify_MusicAttributes ORDER BY duration_ms LIMIT 1\" Spotify_MusicAttributes.csv\n",
    "```"
   ]
  },
  {
   "cell_type": "markdown",
   "metadata": {},
   "source": [
    "- Further improve the output by piping the output to csvlook."
   ]
  },
  {
   "cell_type": "markdown",
   "metadata": {},
   "source": [
    "```\n",
    "# Reformat the output using csvlook \n",
    "csvsql --query \"SELECT * FROM Spotify_MusicAttributes ORDER BY duration_ms LIMIT 1\" \\\n",
    "\tSpotify_MusicAttributes.csv | csvlook\n",
    "```"
   ]
  },
  {
   "cell_type": "markdown",
   "metadata": {},
   "source": [
    "- Instead of printing to console, re-direct output and save as new file: ShortestSong.csv."
   ]
  },
  {
   "cell_type": "markdown",
   "metadata": {},
   "source": [
    "```\n",
    "# Re-direct output to new file: ShortestSong.csv\n",
    "csvsql --query \"SELECT * FROM Spotify_MusicAttributes ORDER BY duration_ms LIMIT 1\" \\\n",
    "\tSpotify_MusicAttributes.csv > ShortestSong.csv\n",
    "    \n",
    "# Preview newly created file \n",
    "csvlook ShortestSong.csv\n",
    "```"
   ]
  },
  {
   "cell_type": "markdown",
   "metadata": {},
   "source": [
    "- Fill in the csvsql command by calling upon the bash variable containing the SQL query instead of writing out the SQL query in full."
   ]
  },
  {
   "cell_type": "markdown",
   "metadata": {},
   "source": [
    "```\n",
    "# Preview CSV file\n",
    "ls\n",
    "\n",
    "# Store SQL query as shell variable\n",
    "sqlquery=\"SELECT * FROM Spotify_MusicAttributes ORDER BY duration_ms LIMIT 1\"\n",
    "\n",
    "# Apply SQL query to Spotify_MusicAttributes.csv\n",
    "csvsql --query \"$sqlquery\" Spotify_MusicAttributes.csv\n",
    "```"
   ]
  },
  {
   "cell_type": "markdown",
   "metadata": {},
   "source": [
    "- Explore the data with the commands we have learned so far (e.g. csvstat, csvlook, etc). What is the column that Spotify_MusicAttributes.csv and Spotify_Popularity.csv have in common that can be used as the JOIN key?"
   ]
  },
  {
   "cell_type": "markdown",
   "metadata": {},
   "source": [
    "```\n",
    "csvcut -n Spotify_MusicAttributes.csv\n",
    "csvcut -n Spotify_Popularity.csv\n",
    "```"
   ]
  },
  {
   "cell_type": "markdown",
   "metadata": {},
   "source": [
    "- Join Spotify_MusicAttributes.csv and Spotify_Popularity.csv together to form a new file Spotify_FullData.csv."
   ]
  },
  {
   "cell_type": "markdown",
   "metadata": {},
   "source": [
    "```\n",
    "# Store SQL query as shell variable\n",
    "sql_query=\"SELECT ma.*, p.popularity FROM Spotify_MusicAttributes ma INNER JOIN Spotify_Popularity p ON ma.track_id = p.track_id\"\n",
    "\n",
    "# Join 2 local csvs into a new csv using the saved SQL\n",
    "csvsql --query \"$sql_query\" Spotify_MusicAttributes.csv Spotify_Popularity.csv > Spotify_FullData.csv\n",
    "\n",
    "# Preview newly created file\n",
    "csvstat Spotify_FullData.csv\n",
    "```"
   ]
  },
  {
   "cell_type": "markdown",
   "metadata": {},
   "source": [
    "- Upload Spotify_MusicAttributes.csv as its own table in the SQLite database SpotifyDatabase.\n",
    "- Re-pull the data from the newly created table Spotify_MusicAttributes in the SQLite database SpotifyDatabase."
   ]
  },
  {
   "cell_type": "markdown",
   "metadata": {},
   "source": [
    "```\n",
    "# Preview file\n",
    "ls\n",
    "\n",
    "# Upload Spotify_MusicAttributes.csv to database\n",
    "csvsql --db \"sqlite:///SpotifyDatabase.db\" --insert Spotify_MusicAttributes.csv\n",
    "\n",
    "# Store SQL query as shell variable\n",
    "sqlquery=\"SELECT * FROM Spotify_MusicAttributes\"\n",
    "\n",
    "# Apply SQL query to re-pull new table in database\n",
    "sql2csv --db \"sqlite:///SpotifyDatabase.db\" --query \"$sqlquery\" \n",
    "```"
   ]
  },
  {
   "cell_type": "markdown",
   "metadata": {},
   "source": [
    "- Download the entire table SpotifyMostRecentData from the SQLite database SpotifyDatabase and save it as a csv file locally as SpotifyMostRecentData.csv.\n",
    "- Manipulate the two local csv files SpotifyMostRecentData.csv and Spotify201812.csv by passing in the stored UNION ALL SQL query into csvsql. Save the newly created file as UnionedSpotifyData.csv\n",
    "- Push the newly created csv file UnionedSpotifyData.csv back to database SpotifyDatabase as its own table."
   ]
  },
  {
   "cell_type": "markdown",
   "metadata": {},
   "source": [
    "```\n",
    "# Store SQL for querying from SQLite database \n",
    "sqlquery_pull=\"SELECT * FROM SpotifyMostRecentData\"\n",
    "\n",
    "# Apply SQL to save table as local file \n",
    "sql2csv --db \"sqlite:///SpotifyDatabase.db\" --query \"$sqlquery_pull\" > SpotifyMostRecentData.csv\n",
    "\n",
    "# Store SQL for UNION of the two local CSV files\n",
    "sqlquery_union=\"SELECT * FROM SpotifyMostRecentData UNION ALL SELECT * FROM Spotify201812\"\n",
    "\n",
    "# Apply SQL to union the two local CSV files and save as local file\n",
    "csvsql \t--query \"$sqlquery_union\" SpotifyMostRecentData.csv Spotify201812.csv > UnionedSpotifyData.csv\n",
    "\n",
    "# Push UnionedSpotifyData.csv to database as a new table\n",
    "csvsql --db \"sqlite:///SpotifyDatabase.db\" --insert UnionedSpotifyData.csv\n",
    "```"
   ]
  }
 ],
 "metadata": {
  "language_info": {
   "name": "python"
  },
  "orig_nbformat": 4
 },
 "nbformat": 4,
 "nbformat_minor": 2
}
