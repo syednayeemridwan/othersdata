{
 "cells": [
  {
   "cell_type": "markdown",
   "metadata": {},
   "source": [
    "Where is the location of python installation?\n",
    "- `which python`"
   ]
  },
  {
   "cell_type": "markdown",
   "metadata": {},
   "source": [
    "- In one step, create a new Python file and pass the Python print command into the file.\n",
    "- Execute the new Python file by calling it directly from the command line."
   ]
  },
  {
   "cell_type": "markdown",
   "metadata": {},
   "source": [
    "```\n",
    "# in one step, create a new file and pass the print function into the file\n",
    "echo \"print('This is my first Python script')\" > my_first_python_script.py\n",
    "\n",
    "# check file location \n",
    "ls\n",
    "\n",
    "# check file content \n",
    "cat my_first_python_script.py\n",
    "\n",
    "# execute Python script file directly from command line  \n",
    "python my_first_python_script.py\n",
    "```"
   ]
  },
  {
   "cell_type": "markdown",
   "metadata": {},
   "source": [
    "About pip:\n",
    "- Print the pip version the same way as the Python version, using option flag --version\n",
    "- pip can be used to upgrade itself using pip install --upgrade pip\n",
    "- pip can be used to install csvkit since it is written in Python"
   ]
  },
  {
   "cell_type": "markdown",
   "metadata": {},
   "source": [
    "- Instantiate the requirements.txt document and add the scikit-learn library to the requirements.txt file.\n",
    "- Use pip to install the dependencies in the requirements.txt file.\n",
    "- Use pip to list what Python libraries are already installed in your environment."
   ]
  },
  {
   "cell_type": "markdown",
   "metadata": {},
   "source": [
    "```\n",
    "# Add scikit-learn to the requirements.txt file\n",
    "echo \"scikit-learn\" > requirements.txt\n",
    "\n",
    "# Preview file content\n",
    "cat requirements.txt\n",
    "\n",
    "# Install the required dependencies\n",
    "pip install -r requirements.txt\n",
    "\n",
    "# Verify that Scikit-Learn is now installed\n",
    "pip list\n",
    "```"
   ]
  },
  {
   "cell_type": "markdown",
   "metadata": {},
   "source": [
    "- Use pip to list and verify that the libraries specified in create_model.py have been installed.\n",
    "- Run the Python script create_model.py from the command line."
   ]
  },
  {
   "cell_type": "markdown",
   "metadata": {},
   "source": [
    "```\n",
    "# Re-install requirements\n",
    "pip install -r requirements.txt\n",
    "\n",
    "# Preview Python model script for import dependencies\n",
    "cat create_model.py\n",
    "\n",
    "# Verify that dependencies are installed\n",
    "pip list\n",
    "\n",
    "# Execute Python model script, which outputs a pkl file\n",
    "python create_model.py\n",
    "\n",
    "# Verify that the model.pkl file has been created \n",
    "ls\n",
    "```"
   ]
  },
  {
   "cell_type": "markdown",
   "metadata": {},
   "source": [
    "Remember the syntax for Crontab:\n",
    "```\n",
    ".---------------- minute (0 - 59)\n",
    "|  .------------- hour (0 - 23)\n",
    "|  |  .---------- day of month (1 - 31)\n",
    "|  |  |  .------- month (1 - 12) OR jan,feb,mar,apr ...\n",
    "|  |  |  |  .---- day of week (0 - 6) (Sunday=0 or 7) OR sun,mon,tue,wed ...\n",
    "|  |  |  |  |\n",
    "*  *  *  *  * command-to-be-executed\n",
    "```\n",
    "\n",
    "Which of the following is the correct Crontab syntax for execute the Python model script (model.py) every hour, on the 15 minute of an hour? (e.g. 12:15 PM, 1:15 AM, 2:15 AM, etc)?\n",
    "- `15 * * * * python model.py`"
   ]
  },
  {
   "cell_type": "markdown",
   "metadata": {},
   "source": [
    "- Verify that there are currently no CRON jobs currently scheduled via CRONTAB.\n",
    "- Create a Python file called hello_world.py which prints \"hello world\" when executed.\n",
    "- Modify CRONTAB by adding a job that runs the Python script hello_world.py every minute on the minute.\n",
    "- Verify that the CRON job has been created successfully."
   ]
  },
  {
   "cell_type": "markdown",
   "metadata": {},
   "source": [
    "```\n",
    "# Verify that there are no CRON jobs currently scheduled\n",
    "crontab -l \n",
    "\n",
    "# Create Python file hello_world.py\n",
    "echo \"print('hello world')\" > hello_world.py\n",
    "\n",
    "# Preview Python file \n",
    "cat hello_world.py\n",
    "\n",
    "# Add as job that runs every minute on the minute to crontab\n",
    "echo \"* * * * * python hello_world.py\" | crontab\n",
    "\n",
    "# Verify that the CRON job has been added\n",
    "crontab -l\n",
    "```"
   ]
  },
  {
   "cell_type": "markdown",
   "metadata": {},
   "source": [
    "- Use pip to install the Python dependencies listed in the requirements.txt file.\n",
    "- Now that the necessary Python dependencies have been installed, run the create_model.py script on the command line.\n",
    "- We have verified that the Python model can be run. Next step is to automate this job so it runs every minute. Use CRONTAB to schedule a per minute run of the Python script create_model.py.\n",
    "- Print the job scheduled in CRONTAB to verify that the CRON job is scheduled correctly."
   ]
  },
  {
   "cell_type": "markdown",
   "metadata": {},
   "source": [
    "```\n",
    "# Preview both Python script and requirements text file\n",
    "cat create_model.py\n",
    "cat requirements.txt\n",
    "\n",
    "# Pip install Python dependencies in requirements file\n",
    "pip install -r requirements.txt\n",
    "\n",
    "# Run Python script on command line\n",
    "python create_model.py\n",
    "\n",
    "# Add CRON job that runs create_model.py every minute\n",
    "echo \"* * * * * python create_model.py\" | crontab\n",
    "\n",
    "# Verify that the CRON job has been scheduled via CRONTAB\n",
    "crontab -l\n",
    "```"
   ]
  }
 ],
 "metadata": {
  "language_info": {
   "name": "python"
  },
  "orig_nbformat": 4
 },
 "nbformat": 4,
 "nbformat_minor": 2
}
