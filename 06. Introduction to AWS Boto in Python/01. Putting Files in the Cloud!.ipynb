{
 "cells": [
  {
   "cell_type": "markdown",
   "metadata": {},
   "source": [
    "- Generate a boto3 client for interacting with s3.\n",
    "- Specify 'us-east-1' for the region_name.\n",
    "- Use AWS_KEY_ID and AWS_SECRET to set up the credentials.\n",
    "- Print the buckets."
   ]
  },
  {
   "cell_type": "code",
   "execution_count": 1,
   "metadata": {},
   "outputs": [],
   "source": [
    "# # Generate the boto3 client for interacting with S3\n",
    "# s3 = boto3.client('s3', region_name='us-east-1', \n",
    "#                         # Set up AWS credentials \n",
    "#                         aws_access_key_id=AWS_KEY_ID, \n",
    "#                          aws_secret_access_key=AWS_SECRET)\n",
    "# # List the buckets\n",
    "# buckets = s3.list_buckets()\n",
    "\n",
    "# # Print the buckets\n",
    "# print(buckets)"
   ]
  },
  {
   "cell_type": "markdown",
   "metadata": {},
   "source": [
    "- Generate the boto3 clients for interacting with S3 and SNS.\n",
    "- Specify 'us-east-1' for the region_name for both clients.\n",
    "- Use AWS_KEY_ID and AWS_SECRET to set up the credentials.\n",
    "- List and print the SNS topics."
   ]
  },
  {
   "cell_type": "code",
   "execution_count": 1,
   "metadata": {},
   "outputs": [],
   "source": [
    "# # Generate the boto3 client for interacting with S3 and SNS\n",
    "# s3 = boto3.client('s3', region_name='us-east-1', \n",
    "#                          aws_access_key_id=AWS_KEY_ID, \n",
    "#                          aws_secret_access_key=AWS_SECRET)\n",
    "\n",
    "# sns = boto3.client('sns', region_name='us-east-1', \n",
    "#                          aws_access_key_id=AWS_KEY_ID, \n",
    "#                          aws_secret_access_key=AWS_SECRET)\n",
    "\n",
    "# # List S3 buckets and SNS topics\n",
    "# buckets = s3.list_buckets()\n",
    "# topics = sns.list_topics()\n",
    "\n",
    "# # Print out the list of SNS topics\n",
    "# print(topics)"
   ]
  },
  {
   "cell_type": "markdown",
   "metadata": {},
   "source": [
    "Sam is thinking of building a system that would take this repetitive work off John's plate.\n",
    "Such a system will:\n",
    "Get images taken by city trash trucks and store them;\n",
    "If the image contains a cat, the system will send an SMS to the Animal Services manager.\n",
    "What AWS services would Sam need to implement this system?\n",
    "\n",
    "- IAM\n",
    "- S3\n",
    "- SNS\n",
    "- Rekognition"
   ]
  },
  {
   "cell_type": "markdown",
   "metadata": {},
   "source": [
    "- Create a boto3 client to S3.\n",
    "- Create 'gim-staging', 'gim-processed' and 'gim-test' buckets.\n",
    "- Print the response from creating the 'gim-staging' bucket."
   ]
  },
  {
   "cell_type": "code",
   "execution_count": 2,
   "metadata": {},
   "outputs": [],
   "source": [
    "# import boto3\n",
    "\n",
    "# # Create boto3 client to S3\n",
    "# s3 = boto3.client('s3', region_name='us-east-1', \n",
    "#                          aws_access_key_id=AWS_KEY_ID, \n",
    "#                          aws_secret_access_key=AWS_SECRET)\n",
    "\n",
    "# # Create the buckets\n",
    "# response_staging = s3.create_bucket(Bucket='gim-staging')\n",
    "# response_processed = s3.create_bucket(Bucket='gim-processed')\n",
    "# response_test = s3.create_bucket(Bucket='gim-test')\n",
    "\n",
    "# # Print out the response\n",
    "# print(response_staging)"
   ]
  },
  {
   "cell_type": "markdown",
   "metadata": {},
   "source": [
    "- Get the buckets from S3.\n",
    "- Iterate over the bucket key from response to access the list of buckets.\n",
    "- Print the name of each bucket."
   ]
  },
  {
   "cell_type": "code",
   "execution_count": 3,
   "metadata": {},
   "outputs": [],
   "source": [
    "# # Get the list_buckets response\n",
    "# response = s3.list_buckets()\n",
    "\n",
    "# # Iterate over Buckets from .list_buckets() response\n",
    "# for bucket in response['Buckets']:\n",
    "  \n",
    "#   \t# Print the Name for each bucket\n",
    "#     print(bucket['Name'])"
   ]
  },
  {
   "cell_type": "markdown",
   "metadata": {},
   "source": [
    "- Delete the 'gim-test' bucket.\n",
    "- Get the list of buckets from S3.\n",
    "- Print each 'Buckets' 'Name'."
   ]
  },
  {
   "cell_type": "code",
   "execution_count": 4,
   "metadata": {},
   "outputs": [],
   "source": [
    "# # Delete the gim-test bucket\n",
    "# s3.delete_bucket(Bucket='gim-test')\n",
    "\n",
    "# # Get the list_buckets response\n",
    "# response = s3.list_buckets()\n",
    "\n",
    "# # Print each Buckets Name\n",
    "# for bucket in response['Buckets']:\n",
    "#     print(bucket['Name'])\n"
   ]
  },
  {
   "cell_type": "markdown",
   "metadata": {},
   "source": [
    "- Get the buckets from S3.\n",
    "- Delete the buckets that contain 'gim' and create the 'gid-staging' and 'gid-processed' buckets.\n",
    "- Print the new bucket names."
   ]
  },
  {
   "cell_type": "code",
   "execution_count": 5,
   "metadata": {},
   "outputs": [],
   "source": [
    "# # Get the list_buckets response\n",
    "# response = s3.list_buckets()\n",
    "\n",
    "# # Delete all the buckets with 'gim', create replacements.\n",
    "# for bucket in response['Buckets']:\n",
    "#   if 'gim' in bucket['Name']:\n",
    "#       s3.delete_bucket(Bucket=bucket['Name'])\n",
    "    \n",
    "# s3.create_bucket(Bucket='gid-staging')\n",
    "# s3.create_bucket(Bucket='gid-processed')\n",
    "  \n",
    "# # Print bucket listing after deletion\n",
    "# response = s3.list_buckets()\n",
    "# for bucket in response['Buckets']:\n",
    "#     print(bucket['Name'])"
   ]
  },
  {
   "cell_type": "markdown",
   "metadata": {},
   "source": [
    "- Upload 'final_report.csv' to the 'gid-staging' bucket with the key '2019/final_report_01_01.csv'.\n",
    "- Get the object metadata and store it in response.\n",
    "- Print the object size in bytes."
   ]
  },
  {
   "cell_type": "code",
   "execution_count": 6,
   "metadata": {},
   "outputs": [],
   "source": [
    "# # Upload final_report.csv to gid-staging\n",
    "# s3.upload_file(Bucket='gid-staging',\n",
    "#               # Set filename and key\n",
    "#                Filename='final_report.csv', \n",
    "#                Key='2019/final_report_01_01.csv')\n",
    "\n",
    "# # Get object metadata and print it\n",
    "# response = s3.head_object(Bucket='gid-staging', \n",
    "#                        Key='2019/final_report_01_01.csv')\n",
    "\n",
    "# # Print the size of the uploaded object\n",
    "# print(response['ContentLength'])"
   ]
  },
  {
   "cell_type": "markdown",
   "metadata": {},
   "source": [
    "- List only objects that start with '2018/final_' in 'gid-staging' bucket.\n",
    "- Iterate over the objects, deleting each one.\n",
    "- Print the keys of remaining objects in the bucket."
   ]
  },
  {
   "cell_type": "code",
   "execution_count": 7,
   "metadata": {},
   "outputs": [],
   "source": [
    "# # List only objects that start with '2018/final_'\n",
    "# response = s3.list_objects(Bucket='gid-staging', \n",
    "#                            Prefix='2018/final_')\n",
    "\n",
    "# # Iterate over the objects\n",
    "# if 'Contents' in response:\n",
    "#   for obj in response['Contents']:\n",
    "#       # Delete the object\n",
    "#       s3.delete_object(Bucket='gid-staging', Key=obj['Key'])\n",
    "\n",
    "# # Print the keys of remaining objects in the bucket\n",
    "# response = s3.list_objects(Bucket='gid-staging')\n",
    "\n",
    "# for obj in response['Contents']:\n",
    "#   \tprint(obj['Key'])"
   ]
  }
 ],
 "metadata": {
  "kernelspec": {
   "display_name": "Python 3.8.11 ('env_py')",
   "language": "python",
   "name": "python3"
  },
  "language_info": {
   "codemirror_mode": {
    "name": "ipython",
    "version": 3
   },
   "file_extension": ".py",
   "mimetype": "text/x-python",
   "name": "python",
   "nbconvert_exporter": "python",
   "pygments_lexer": "ipython3",
   "version": "3.8.11"
  },
  "orig_nbformat": 4,
  "vscode": {
   "interpreter": {
    "hash": "1e949e87132dd83f1a7623eb88007e3532b03b66b77111be347aa4a383049722"
   }
  }
 },
 "nbformat": 4,
 "nbformat_minor": 2
}
