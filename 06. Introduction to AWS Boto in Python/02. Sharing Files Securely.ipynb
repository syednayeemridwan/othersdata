{
 "cells": [
  {
   "cell_type": "markdown",
   "metadata": {},
   "source": [
    "- A presigned URL only gives access to a private object temporarily.\n",
    "- An IAM bucket policy would work, but would be much better suited for a multi user environment.\n",
    "- A bucket policy would work, but would be much better suited for a multi user environment.\n",
    "- A public-read ACL will make the specific object she's trying to share public to the world!"
   ]
  },
  {
   "cell_type": "markdown",
   "metadata": {},
   "source": [
    "- Sam is trying to decide how to upload a public CSV and share it with the world as Open Data.\n",
    "- She only wants to make that specific CSV public, and not the bucket.\n",
    "- She also doesn't want to make any of the other objects in the bucket public.\n",
    "- Help her decide the best way for her to do this.\n",
    "  - Public-read ACL"
   ]
  },
  {
   "cell_type": "markdown",
   "metadata": {},
   "source": [
    "- Upload 'final_report.csv' to the 'gid-staging' bucket.\n",
    "- Set the key to '2019/final_report_2019_02_20.csv'.\n",
    "- Set the ACL to 'public-read'."
   ]
  },
  {
   "cell_type": "code",
   "execution_count": 1,
   "metadata": {},
   "outputs": [],
   "source": [
    "# # Upload the final_report.csv to gid-staging bucket\n",
    "# s3.upload_file(\n",
    "#   # Complete the filename\n",
    "#   Filename='./final_report.csv', \n",
    "#   # Set the key and bucket\n",
    "#   Key='2019/final_report_2019_02_20.csv', \n",
    "#   Bucket='gid-staging',\n",
    "#   # During upload, set ACL to public-read\n",
    "#   ExtraArgs={'ACL':'public-read'})"
   ]
  },
  {
   "cell_type": "markdown",
   "metadata": {},
   "source": [
    "- List the objects in 'gid-staging' bucket starting with '2019/final_'.\n",
    "- For each file in the response, give it an ACL of 'public-read'.\n",
    "- Print the Public Object URL of each object."
   ]
  },
  {
   "cell_type": "code",
   "execution_count": 2,
   "metadata": {},
   "outputs": [],
   "source": [
    "# # List only objects that start with '2019/final_'\n",
    "# response = s3.list_objects(\n",
    "#     Bucket='gid-staging', Prefix='2019/final_')\n",
    "\n",
    "# # Iterate over the objects\n",
    "# for obj in response['Contents']:\n",
    "\n",
    "#     # Give each object ACL of public-read\n",
    "#     s3.put_object_acl(Bucket='gid-staging', \n",
    "#                       Key=obj['Key'], \n",
    "#                       ACL='public-read')\n",
    "    \n",
    "#     # Print the Public Object URL for each object\n",
    "#     print(\"https://{}.s3.amazonaws.com/{}\".format( 'gid-staging', obj['Key']))"
   ]
  },
  {
   "cell_type": "markdown",
   "metadata": {},
   "source": [
    "- Generate a presigned URL for final_report.csv that lasts 1 hour and allows the user to get the object.\n",
    "- Print out the generated presigned URL."
   ]
  },
  {
   "cell_type": "code",
   "execution_count": 3,
   "metadata": {},
   "outputs": [],
   "source": [
    "# # Generate presigned_url for the uploaded object\n",
    "# share_url = s3.generate_presigned_url(\n",
    "#   # Specify allowable operations\n",
    "#   ClientMethod='get_object',\n",
    "#   # Set the expiration time\n",
    "#   ExpiresIn=3600,\n",
    "#   # Set bucket and shareable object's name\n",
    "#   Params={'Bucket': 'gid-staging','Key': 'final_report.csv'}\n",
    "# )\n",
    "\n",
    "# # Print out the presigned URL\n",
    "# print(share_url)"
   ]
  },
  {
   "cell_type": "markdown",
   "metadata": {},
   "source": [
    "- For each file in response, load the object from S3.\n",
    "- Load the object's StreamingBody into pandas, and append to df_list.\n",
    "- Concatenate all the DataFrames with pandas.\n",
    "- Preview the resulting DataFrame."
   ]
  },
  {
   "cell_type": "code",
   "execution_count": 4,
   "metadata": {},
   "outputs": [],
   "source": [
    "# df_list =  [ ] \n",
    "\n",
    "# for file in response['Contents']:\n",
    "#     # For each file in response load the object from S3\n",
    "#     obj = s3.get_object(Bucket='gid-requests', Key=file['Key'])\n",
    "#     # Load the object's StreamingBody with pandas\n",
    "#     obj_df = pd.read_csv(obj['Body'])\n",
    "#     # Append the resulting DataFrame to list\n",
    "#     df_list.append(obj_df)\n",
    "\n",
    "# # Concat all the DataFrames with pandas\n",
    "# df = pd.concat(df_list)\n",
    "\n",
    "# # Preview the resulting DataFrame\n",
    "# df.head()"
   ]
  },
  {
   "cell_type": "markdown",
   "metadata": {},
   "source": [
    "- Generate an HTML table with no border and only the 'service_name' and 'link' columns.\n",
    "- Generate an HTML table with borders and all columns.\n",
    "- Make sure to set all URLs to be clickable."
   ]
  },
  {
   "cell_type": "code",
   "execution_count": 5,
   "metadata": {},
   "outputs": [],
   "source": [
    "# # Generate an HTML table with no border and selected columns\n",
    "# services_df.to_html('./services_no_border.html',\n",
    "#            # Keep specific columns only\n",
    "#            columns=['service_name', 'link'],\n",
    "#            # Set border\n",
    "#            border=0)\n",
    "\n",
    "# # Generate an html table with border and all columns.\n",
    "# services_df.to_html('./services_border_all_columns.html', \n",
    "#            border=1)"
   ]
  },
  {
   "cell_type": "markdown",
   "metadata": {},
   "source": [
    "- Upload the 'lines.html' file to 'datacamp-public' bucket.\n",
    "- Specify the proper content type for the uploaded file.\n",
    "- Specify that the file should be public.\n",
    "- Print the Public Object URL for the new file."
   ]
  },
  {
   "cell_type": "code",
   "execution_count": 6,
   "metadata": {},
   "outputs": [],
   "source": [
    "# # Upload the lines.html file to S3\n",
    "# s3.upload_file(Filename='lines.html', \n",
    "#                # Set the bucket name\n",
    "#                Bucket='datacamp-public', Key='index.html',\n",
    "#                # Configure uploaded file\n",
    "#                ExtraArgs = {\n",
    "#                  # Set proper content type\n",
    "#                  'ContentType':'text/html',\n",
    "#                  # Set proper ACL\n",
    "#                  'ACL': 'public-read'})\n",
    "\n",
    "# # Print the S3 Public Object URL for the new file.\n",
    "# print(\"http://{}.s3.amazonaws.com/{}\".format('datacamp-public', 'index.html'))"
   ]
  },
  {
   "cell_type": "markdown",
   "metadata": {},
   "source": [
    "- Load each object from s3.\n",
    "- Read it into pandas and append it to df_list.\n",
    "- Concatenate all DataFrames in df_list.\n",
    "- Preview the DataFrame."
   ]
  },
  {
   "cell_type": "code",
   "execution_count": 7,
   "metadata": {},
   "outputs": [],
   "source": [
    "# df_list = [] \n",
    "\n",
    "# # Load each object from s3\n",
    "# for file in request_files:\n",
    "#     s3_day_reqs = s3.get_object(Bucket='gid-requests', \n",
    "#                                 Key=file['Key'])\n",
    "#     # Read the DataFrame into pandas, append it to the list\n",
    "#     day_reqs = pd.read_csv(s3_day_reqs['Body'])\n",
    "#     df_list.append(day_reqs)\n",
    "\n",
    "# # Concatenate all the DataFrames in the list\n",
    "# all_reqs = pd.concat(df_list)\n",
    "\n",
    "# # Preview the DataFrame\n",
    "# all_reqs.head()"
   ]
  },
  {
   "cell_type": "markdown",
   "metadata": {},
   "source": [
    "- Write CSV and HTML versions of agg_df and name them 'feb_final_report.csv' and 'feb_final_report.html' respectively.\n",
    "- Upload both versions of agg_df to the gid-reports bucket and set them to public read."
   ]
  },
  {
   "cell_type": "code",
   "execution_count": 8,
   "metadata": {},
   "outputs": [],
   "source": [
    "# # Write agg_df to a CSV and HTML file with no border\n",
    "# agg_df.to_csv('./feb_final_report.csv')\n",
    "# agg_df.to_html('./feb_final_report.html', border=0)\n",
    "\n",
    "# # Upload the generated CSV to the gid-reports bucket\n",
    "# s3.upload_file(Filename='./feb_final_report.csv', \n",
    "# \tKey='2019/feb/final_report.html', Bucket='gid-reports',\n",
    "#     ExtraArgs = {'ACL': 'public-read'})\n",
    "\n",
    "# # Upload the generated HTML to the gid-reports bucket\n",
    "# s3.upload_file(Filename='./feb_final_report.html', \n",
    "# \tKey='2019/feb/final_report.html', Bucket='gid-reports',\n",
    "#     ExtraArgs = {'ContentType': 'text/html', \n",
    "#                  'ACL': 'public-read'})"
   ]
  },
  {
   "cell_type": "markdown",
   "metadata": {},
   "source": [
    "- List the 'gid-reports' bucket objects starting with '2019/'.\n",
    "- Convert the content of the objects list to a DataFrame.\n",
    "- Create a column 'Link' that contains Public Object URL + key.\n",
    "- Preview the DataFrame."
   ]
  },
  {
   "cell_type": "code",
   "execution_count": 9,
   "metadata": {},
   "outputs": [],
   "source": [
    "# # List the gid-reports bucket objects starting with 2019/\n",
    "# objects_list = s3.list_objects(Bucket='gid-reports', Prefix='2019/')\n",
    "\n",
    "# # Convert the response contents to DataFrame\n",
    "# objects_df = pd.DataFrame(objects_list['Contents'])\n",
    "\n",
    "# # Create a column \"Link\" that contains Public Object URL\n",
    "# base_url = \"http://gid-reports.s3.amazonaws.com/\"\n",
    "# objects_df['Link'] = base_url + objects_df['Key']\n",
    "\n",
    "# # Preview the resulting DataFrame\n",
    "# objects_df.head()"
   ]
  },
  {
   "cell_type": "markdown",
   "metadata": {},
   "source": [
    "- Write objects_df to an HTML file 'report_listing.html' with clickable links.\n",
    "- The HTML file should only contain 'Link', 'LastModified', and 'Size' columns.\n",
    "- Overwrite the 'index.html' on S3 by uploading the new version of the file."
   ]
  },
  {
   "cell_type": "code",
   "execution_count": 10,
   "metadata": {},
   "outputs": [],
   "source": [
    "# # Write objects_df to an HTML file\n",
    "# objects_df.to_html('report_listing.html',\n",
    "#     # Set clickable links\n",
    "#     render_links=True,\n",
    "# \t# Isolate the columns\n",
    "#     columns=['Link', 'LastModified', 'Size'])\n",
    "\n",
    "# # Overwrite index.html key by uploading the new file\n",
    "# s3.upload_file(\n",
    "#   Filename='./report_listing.html', Key='index.html', \n",
    "#   Bucket='gid-reports',\n",
    "#   ExtraArgs = {\n",
    "#     'ContentType': 'text/html', \n",
    "#     'ACL': 'public-read'\n",
    "#   })"
   ]
  }
 ],
 "metadata": {
  "kernelspec": {
   "display_name": "Python 3.8.11 ('env_py')",
   "language": "python",
   "name": "python3"
  },
  "language_info": {
   "codemirror_mode": {
    "name": "ipython",
    "version": 3
   },
   "file_extension": ".py",
   "mimetype": "text/x-python",
   "name": "python",
   "nbconvert_exporter": "python",
   "pygments_lexer": "ipython3",
   "version": "3.8.11"
  },
  "orig_nbformat": 4,
  "vscode": {
   "interpreter": {
    "hash": "1e949e87132dd83f1a7623eb88007e3532b03b66b77111be347aa4a383049722"
   }
  }
 },
 "nbformat": 4,
 "nbformat_minor": 2
}
