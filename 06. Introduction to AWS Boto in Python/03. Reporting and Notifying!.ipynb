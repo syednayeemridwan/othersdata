{
 "cells": [
  {
   "cell_type": "markdown",
   "metadata": {},
   "source": [
    "- Initialize the boto3 client for SNS.\n",
    "- Create the 'city_alerts' topic and extract its topic ARN.\n",
    "- Re-create the 'city_alerts' topic and extract its topic ARN with a one-liner.\n",
    "- Verify the two topic ARNs match."
   ]
  },
  {
   "cell_type": "code",
   "execution_count": 1,
   "metadata": {},
   "outputs": [],
   "source": [
    "# # Initialize boto3 client for SNS\n",
    "# sns = boto3.client('sns', \n",
    "#                    region_name='us-east-1', \n",
    "#                    aws_access_key_id=AWS_KEY_ID, \n",
    "#                    aws_secret_access_key=AWS_SECRET)\n",
    "\n",
    "# # Create the city_alerts topic\n",
    "# response = sns.create_topic(Name=\"city_alerts\")\n",
    "# c_alerts_arn = response['TopicArn']\n",
    "\n",
    "# # Re-create the city_alerts topic using a oneliner\n",
    "# c_alerts_arn_1 = sns.create_topic(Name=\"city_alerts\")['TopicArn']\n",
    "\n",
    "# # Compare the two to make sure they match\n",
    "# print(c_alerts_arn == c_alerts_arn_1)"
   ]
  },
  {
   "cell_type": "markdown",
   "metadata": {},
   "source": [
    "- For every department, create a general topic.\n",
    "- For every department, create a critical topic.\n",
    "- Print all the topics created in SNS"
   ]
  },
  {
   "cell_type": "code",
   "execution_count": 2,
   "metadata": {},
   "outputs": [],
   "source": [
    "# # Create list of departments\n",
    "# departments = ['trash', 'streets', 'water']\n",
    "\n",
    "# for dept in departments:\n",
    "#   \t# For every department, create a general topic\n",
    "#     sns.create_topic(Name=\"{}_general\".format(dept))\n",
    "    \n",
    "#     # For every department, create a critical topic\n",
    "#     sns.create_topic(Name=\"{}_critical\".format(dept))\n",
    "\n",
    "# # Print all the topics in SNS\n",
    "# response = sns.list_topics()\n",
    "# print(response['Topics'])"
   ]
  },
  {
   "cell_type": "markdown",
   "metadata": {},
   "source": [
    "- Get the current list of topics.\n",
    "- For every topic ARN, if it doesn't have the word 'critical' in it, delete it.\n",
    "- Print the list of remaining critical topics."
   ]
  },
  {
   "cell_type": "code",
   "execution_count": 3,
   "metadata": {},
   "outputs": [],
   "source": [
    "# # Get the current list of topics\n",
    "# topics = sns.list_topics()['Topics']\n",
    "\n",
    "# for topic in topics:\n",
    "#   # For each topic, if it is not marked critical, delete it\n",
    "#   if \"critical\" not in topic['TopicArn']:\n",
    "#     sns.delete_topic(TopicArn=topic['TopicArn'])\n",
    "    \n",
    "# # Print the list of remaining critical topics\n",
    "# print(sns.list_topics()['Topics'])"
   ]
  },
  {
   "cell_type": "markdown",
   "metadata": {},
   "source": [
    "- Subscribe Elena's phone number to the 'streets_critical' topic.\n",
    "- Print the SMS subscription ARN.\n",
    "- Subscribe Elena's email to the 'streets_critical topic.\n",
    "- Print the email subscription ARN."
   ]
  },
  {
   "cell_type": "code",
   "execution_count": 4,
   "metadata": {},
   "outputs": [],
   "source": [
    "# # Subscribe Elena's phone number to streets_critical topic\n",
    "# resp_sms = sns.subscribe(\n",
    "#   TopicArn = str_critical_arn, \n",
    "#   Protocol='sms', Endpoint=\"+16196777733\")\n",
    "\n",
    "# # Print the SubscriptionArn\n",
    "# print(resp_sms['SubscriptionArn'])\n",
    "\n",
    "# # Subscribe Elena's email to streets_critical topic.\n",
    "# resp_email = sns.subscribe(\n",
    "#   TopicArn = str_critical_arn, \n",
    "#   Protocol='email', Endpoint=\"eblock@sandiegocity.gov\")\n",
    "\n",
    "# # Print the SubscriptionArn\n",
    "# print(resp_email['SubscriptionArn'])"
   ]
  },
  {
   "cell_type": "markdown",
   "metadata": {},
   "source": [
    "- For each element in the Email column of contacts, create a subscription to the 'streets_critical' Topic.\n",
    "- List subscriptions for the 'streets_critical' Topic and convert them to a DataFrame.\n",
    "- Preview the DataFrame."
   ]
  },
  {
   "cell_type": "code",
   "execution_count": 5,
   "metadata": {},
   "outputs": [],
   "source": [
    "# # For each email in contacts, create subscription to street_critical\n",
    "# for email in contacts['Email']:\n",
    "#   sns.subscribe(TopicArn = str_critical_arn,\n",
    "#                 # Set channel and recipient\n",
    "#                 Protocol = 'email',\n",
    "#                 Endpoint = email)\n",
    "\n",
    "# # List subscriptions for streets_critical topic, convert to DataFrame\n",
    "# response = sns.list_subscriptions_by_topic(\n",
    "#   TopicArn = str_critical_arn)\n",
    "# subs = pd.DataFrame(response['Subscriptions'])\n",
    "\n",
    "# # Preview the DataFrame\n",
    "# subs.head()"
   ]
  },
  {
   "cell_type": "markdown",
   "metadata": {},
   "source": [
    "- List subscriptions for 'streets_critical' topic.\n",
    "- For each subscription, if the protocol is 'sms', unsubscribe.\n",
    "- List subscriptions for 'streets_critical' topic in one line.\n",
    "- Print the subscriptions"
   ]
  },
  {
   "cell_type": "code",
   "execution_count": 6,
   "metadata": {},
   "outputs": [],
   "source": [
    "# # List subscriptions for streets_critical topic.\n",
    "# response = sns.list_subscriptions_by_topic(\n",
    "#   TopicArn = str_critical_arn)\n",
    "\n",
    "# # For each subscription, if the protocol is SMS, unsubscribe\n",
    "# for sub in response['Subscriptions']:\n",
    "#   if sub['Protocol'] == 'sms':\n",
    "# \t  sns.unsubscribe(SubscriptionArn=sub['SubscriptionArn'])\n",
    "\n",
    "# # List subscriptions for streets_critical topic in one line\n",
    "# subs = sns.list_subscriptions_by_topic(\n",
    "#   TopicArn=str_critical_arn)['Subscriptions']\n",
    "\n",
    "# # Print the subscriptions\n",
    "# print(subs)"
   ]
  },
  {
   "cell_type": "markdown",
   "metadata": {},
   "source": [
    "- If there are over 100 potholes, send a message with the current backlog count.\n",
    "- Create the email subject to also include the current backlog counit.\n",
    "- Publish message to the streets_critical Topic ARN."
   ]
  },
  {
   "cell_type": "code",
   "execution_count": 7,
   "metadata": {},
   "outputs": [],
   "source": [
    "# # If there are over 100 potholes, create a message\n",
    "# if streets_v_count > 100:\n",
    "#   # The message should contain the number of potholes.\n",
    "#   message = \"There are {} potholes!\".format(streets_v_count)\n",
    "#   # The email subject should also contain number of potholes\n",
    "#   subject = \"Latest pothole count is {}\".format(streets_v_count)\n",
    "\n",
    "#   # Publish the email to the streets_critical topic\n",
    "#   sns.publish(\n",
    "#     TopicArn = str_critical_arn,\n",
    "#     # Set subject and message\n",
    "#     Message = message,\n",
    "#     Subject = subject\n",
    "#   )"
   ]
  },
  {
   "cell_type": "markdown",
   "metadata": {},
   "source": [
    "- For every contact, send an ad-hoc SMS to the contact's phone number.\n",
    "- The message sent should include the contact's name."
   ]
  },
  {
   "cell_type": "code",
   "execution_count": 8,
   "metadata": {},
   "outputs": [],
   "source": [
    "# # Loop through every row in contacts\n",
    "# for idx, row in contacts.iterrows():\n",
    "    \n",
    "#     # Publish an ad-hoc sms to the user's phone number\n",
    "#     response = sns.publish(\n",
    "#         # Set the phone number\n",
    "#         PhoneNumber = str(row['Phone']),\n",
    "#         # The message should include the user's name\n",
    "#         Message = 'Hello {}'.format(row['Name'])\n",
    "#     )\n",
    "   \n",
    "#     print(response)"
   ]
  },
  {
   "cell_type": "markdown",
   "metadata": {},
   "source": [
    "- For each department create a critical topic and store it in critical.\n",
    "- For each department, create an extreme topic and store it in extreme.\n",
    "- Place the created TopicArns into dept_arns.\n",
    "- Print the dictionary."
   ]
  },
  {
   "cell_type": "code",
   "execution_count": 10,
   "metadata": {},
   "outputs": [],
   "source": [
    "# dept_arns = {} \n",
    "\n",
    "# for dept in departments:\n",
    "#   # For each deparment, create a critical topic\n",
    "#   critical = sns.create_topic(Name=\"{}_critical\".format(dept))\n",
    "#   # For each department, create an extreme topic\n",
    "#   extreme = sns.create_topic(Name=\"{}_extreme\".format(dept))\n",
    "#   # Place the created TopicARNs into a dictionary \n",
    "#   dept_arns['{}_critical'.format(dept)] = critical['TopicArn']\n",
    "#   dept_arns['{}_extreme'.format(dept)] = extreme['TopicArn']\n",
    "\n",
    "# # Print the filled dictionary.\n",
    "# print(dept_arns)a/"
   ]
  },
  {
   "cell_type": "markdown",
   "metadata": {},
   "source": [
    "- Get the topic name by using the 'Department' field in the contacts DataFrame.\n",
    "- Use the topic name to create the critical and extreme TopicArns for a user's department.\n",
    "- Subscribe the user's email address to the critical topic.\n",
    "- Subscribe the user's phone number to the extreme topic."
   ]
  },
  {
   "cell_type": "code",
   "execution_count": 11,
   "metadata": {},
   "outputs": [],
   "source": [
    "# for index, user_row in contacts.iterrows():\n",
    "#   # Get topic names for the users's dept\n",
    "#   critical_tname = '{}_critical'.format(user_row['Department'])\n",
    "#   extreme_tname = '{}_extreme'.format(user_row['Department'])\n",
    "  \n",
    "#   # Get or create the TopicArns for a user's department.\n",
    "#   critical_arn = sns.create_topic(Name=critical_tname)['TopicArn']\n",
    "#   extreme_arn = sns.create_topic(Name=extreme_tname)['TopicArn']\n",
    "  \n",
    "#   # Subscribe each users email to the critical Topic\n",
    "#   sns.subscribe(TopicArn = critical_arn, \n",
    "#                 Protocol='email', Endpoint=user_row['Email'])\n",
    "#   # Subscribe each users phone number for the extreme Topic\n",
    "#   sns.subscribe(TopicArn = extreme_arn, \n",
    "#                 Protocol='sms', Endpoint=str(user_row['Phone']))"
   ]
  },
  {
   "cell_type": "markdown",
   "metadata": {},
   "source": [
    "- If there are over 100 water violations, publish to 'water_critical' topic.\n",
    "- If there are over 300 water violations, publish to 'water_extreme' topic."
   ]
  },
  {
   "cell_type": "code",
   "execution_count": 12,
   "metadata": {},
   "outputs": [],
   "source": [
    "# if vcounts['water'] > 100:\n",
    "#   # If over 100 water violations, publish to water_critical\n",
    "#   sns.publish(\n",
    "#     TopicArn = dept_arns['water_critical'],\n",
    "#     Message = \"{} water issues\".format(vcounts['water']),\n",
    "#     Subject = \"Help fix water violations NOW!\")\n",
    "\n",
    "# if vcounts['water'] > 300:\n",
    "#   # If over 300 violations, publish to water_extreme\n",
    "#   sns.publish(\n",
    "#     TopicArn = dept_arns['water_extreme'],\n",
    "#     Message = \"{} violations! RUN!\".format(vcounts['water']),\n",
    "#     Subject = \"THIS IS BAD.  WE ARE FLOODING!\")"
   ]
  }
 ],
 "metadata": {
  "kernelspec": {
   "display_name": "Python 3.8.11 ('env_py')",
   "language": "python",
   "name": "python3"
  },
  "language_info": {
   "codemirror_mode": {
    "name": "ipython",
    "version": 3
   },
   "file_extension": ".py",
   "mimetype": "text/x-python",
   "name": "python",
   "nbconvert_exporter": "python",
   "pygments_lexer": "ipython3",
   "version": "3.8.11"
  },
  "orig_nbformat": 4,
  "vscode": {
   "interpreter": {
    "hash": "1e949e87132dd83f1a7623eb88007e3532b03b66b77111be347aa4a383049722"
   }
  }
 },
 "nbformat": 4,
 "nbformat_minor": 2
}
